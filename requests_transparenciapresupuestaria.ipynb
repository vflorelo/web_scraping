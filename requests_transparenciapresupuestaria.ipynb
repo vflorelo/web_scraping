{
 "cells": [
  {
   "cell_type": "markdown",
   "id": "38a06b44-53c5-44d4-8803-9ca99da76533",
   "metadata": {},
   "source": [
    "## 00 - Preparamos el entorno cargando las bibliotecas necesarias\n",
    "En caso de que dichas bibliotecas no estén instaladas, es necesario ejecutar el siguiente bloque de código\n",
    "```\n",
    "! pip install --upgrade requests numpy pandas\n",
    "```"
   ]
  },
  {
   "cell_type": "code",
   "execution_count": null,
   "id": "7dbe59d7-16be-4bb8-9c41-641054df544d",
   "metadata": {},
   "outputs": [],
   "source": [
    "import requests\n",
    "import numpy as np\n",
    "import json\n",
    "import pandas as pd"
   ]
  },
  {
   "cell_type": "markdown",
   "id": "cb8634c7-9dae-457d-88a6-5a270ac37433",
   "metadata": {},
   "source": [
    "## 01 - Preparación de la solicitud\n",
    "Cuando interactuar con el servidor [www.transparenciapresupuestaria.gob.mx](https://www.transparenciapresupuestaria.gob.mx), dicho servidor espera información por parte nuestra.\n",
    "\n",
    "En el navegador, el frontend se encarga de preparar el request mediante la interacción con el usuario\n",
    "\n",
    "<img src=\"transparenciapresupuestaria.png\" width=\"500px\"/>\n",
    "\n",
    "El servidor remoto usa la api albergada en [https://nptp.hacienda.gob.mx/programas/mapa](https://nptp.hacienda.gob.mx/programas/mapa).\n",
    "\n",
    "Qué pasa si haces click en el link anterior?"
   ]
  },
  {
   "cell_type": "markdown",
   "id": "b19d64ad-2079-4fe8-9129-e8b36b9971b3",
   "metadata": {},
   "source": [
    "### 01.1 - Un diccionario simple\n",
    "En la siguiente celda, podrás construir un diccionario en el que se almacenan los distintos parámetros que le podemos pasar a la API de Transparencia Presupuestaria"
   ]
  },
  {
   "cell_type": "code",
   "execution_count": null,
   "id": "4ab01e97-4b2f-4542-970d-ac2e21a73ce3",
   "metadata": {},
   "outputs": [],
   "source": [
    "url_data = {\"id_entidad_federativa\":\"11\",\n",
    "            \"id_ramo\":\"\",\n",
    "            \"desc_ppi\":\"\",\n",
    "            \"id_clave_cartera\":\"\",\n",
    "            \"page\":\"1\",\n",
    "            \"pageSize\":\"20\"}"
   ]
  },
  {
   "cell_type": "markdown",
   "id": "51cda2c2-21bf-4e8b-b390-bf76cbeed246",
   "metadata": {},
   "source": [
    "### 01.2 - Limpieza de datos\n",
    "\n",
    "Para un humano es sencillo notar si algo está vacío, sencillamente lo omites y listo.\n",
    "\n",
    "Para una API esto no siempre es obvio, por lo que antes de lanzar nuestra solicitud, debemos limpiar el diccionario, para no pasarle parámetros vacíos a la solicitud"
   ]
  },
  {
   "cell_type": "code",
   "execution_count": null,
   "id": "cf9e0623-6572-450e-b01c-28540d059f83",
   "metadata": {},
   "outputs": [],
   "source": [
    "remove_keys = []\n",
    "for key in url_data.keys():\n",
    "    if (url_data[key] == \"\"):\n",
    "        remove_keys.append(key)\n",
    "for key in remove_keys:\n",
    "    del url_data[key]"
   ]
  },
  {
   "cell_type": "code",
   "execution_count": null,
   "id": "b22af45e-9b55-49af-a09c-eef1d3533d67",
   "metadata": {},
   "outputs": [],
   "source": [
    "print(url_data)"
   ]
  },
  {
   "cell_type": "markdown",
   "id": "907dbc11-ca58-4574-bb91-8c3d02c9be51",
   "metadata": {},
   "source": [
    "## 02 - Solicitud usando requests\n",
    "\n",
    "Ya que limpiamos el set de parámetros que le vamos a pasar a la URL de la API, podemos lanzar la solicitud\n",
    "\n",
    "No obstante, si el set de parámetros está vacío, mejor es no pasarle nada a la API y usar los defaults"
   ]
  },
  {
   "cell_type": "code",
   "execution_count": null,
   "id": "3913d885-67ec-4da4-9b91-892f31233111",
   "metadata": {},
   "outputs": [],
   "source": [
    "if(len(url_data.keys())==0):\n",
    "    url_request = requests.get('https://nptp.hacienda.gob.mx/programas/mapa')\n",
    "else:\n",
    "    url_request = requests.get('https://nptp.hacienda.gob.mx/programas/mapa',params=url_data)"
   ]
  },
  {
   "cell_type": "markdown",
   "id": "3a6a7e27-e097-4274-a81b-391183927b97",
   "metadata": {},
   "source": [
    "### 02.1 Safety checks"
   ]
  },
  {
   "cell_type": "markdown",
   "id": "5b1c918e-4aba-49b2-8386-d4d410494edd",
   "metadata": {},
   "source": [
    "Si todo salió bien con el código anterior, podemos revisar algunos elementos de nuestra solicitud\n",
    "\n",
    "Al ejecutar el código en la siguiente celda podemos ver el URL de la API.\n",
    "\n",
    "Puedes hacer click en el link y revisar el output en el navegador\n",
    "\n",
    ">**Feeling daring?**\n",
    "\n",
    ">Tambien puedes usar [curl](https://curl.se/) y [JQ](https://jqlang.github.io/jq/) para llamar a la API y obtener resultados de consulta en tu terminal\n",
    "\n",
    ">La regla no escrita en cómputo es que siempre hay más de una manera de hacer las cosas"
   ]
  },
  {
   "cell_type": "code",
   "execution_count": null,
   "id": "51972b5f-9f01-4730-87bd-33012f80bd4e",
   "metadata": {},
   "outputs": [],
   "source": [
    "print(url_request.url)"
   ]
  },
  {
   "cell_type": "markdown",
   "id": "7fa07a7f-3b29-420c-8baa-5c4fe37e7a0c",
   "metadata": {},
   "source": [
    "### 02.2 Status code\n",
    "\n",
    "Si bien realizamos la solicitud exitosamente, no significa que el servidor haya aceptado dicha solicitud\n",
    "\n",
    "Podemos checar el status code como una instancia de requests\n",
    "\n",
    "Y en una sola línea, podemos compararlo con códigos permisibles"
   ]
  },
  {
   "cell_type": "code",
   "execution_count": null,
   "id": "ca30a7e5-3803-4a64-91da-88cff49c8bdc",
   "metadata": {},
   "outputs": [],
   "source": [
    "if (url_request.status_code == requests.codes.ok):\n",
    "    print(\"Solicitud efectuada exitosamente\")\n",
    "else:\n",
    "    print(\"Error en la solicitud\"+str(url_request.status_code))"
   ]
  },
  {
   "cell_type": "code",
   "execution_count": null,
   "id": "4745f5a1-3051-4597-8288-708f15bcf228",
   "metadata": {},
   "outputs": [],
   "source": [
    "url_request.status_code"
   ]
  },
  {
   "cell_type": "markdown",
   "id": "5bb60f0b-4bbf-4fc3-a3c1-61607d65d440",
   "metadata": {},
   "source": [
    "## 03 - Data retrieval\n",
    "\n",
    "Si nuestra solicitud se llevó a cabo exitosamente, el servidor nos entregará la información en formato [JSON](https://en.wikipedia.org/wiki/JSON)\n",
    "\n",
    ">***Es sumamente importante revisar la API de cada sitio web, aún hay sitios que entregan XML, texto plano o incluso HTML***\n",
    "\n",
    ">Los parseadores que usemos para obtener información de cada sitio deberán ajustarse al formato que el servidor entreguen"
   ]
  },
  {
   "cell_type": "code",
   "execution_count": null,
   "id": "f467ca2d-1269-4afa-b98f-bed748534298",
   "metadata": {},
   "outputs": [],
   "source": [
    "if (url_request.status_code == requests.codes.ok):\n",
    "    retrieved_data = url_request.json()"
   ]
  },
  {
   "cell_type": "code",
   "execution_count": null,
   "id": "a4e49881-899f-429f-9876-1ed1f67acb11",
   "metadata": {},
   "outputs": [],
   "source": [
    "retrieved_data"
   ]
  },
  {
   "cell_type": "markdown",
   "id": "ce56d7fc-01ea-44be-a1f9-a5f8b3399e8d",
   "metadata": {},
   "source": [
    "### 03.1 Resumen de nuestros datos\n",
    "\n",
    "Antes de procesar los datos es indispensable tener una idea de:\n",
    "\n",
    "- Qué tamaño tienen\n",
    "- Cómo están estructurados\n",
    "- Qué tipo de datos están almacenados en cada *campo*"
   ]
  },
  {
   "cell_type": "markdown",
   "id": "b8ac6f74-c9c2-428c-b05e-37118f473db0",
   "metadata": {},
   "source": [
    "#### 03.1.1 Tamaño\n",
    "JSON es un formato que puede ser tan superficial o tan profundo cómo queramos, con el siguiente código podemos ver cuantos elementos nos mandó el servidor a nivel superficial"
   ]
  },
  {
   "cell_type": "code",
   "execution_count": null,
   "id": "5d8c136b-4dc7-4d9c-99c7-ca6db8f5e410",
   "metadata": {},
   "outputs": [],
   "source": [
    "print(len(retrieved_data))"
   ]
  },
  {
   "cell_type": "markdown",
   "id": "2efbfcf4-891a-4c71-9932-fbb537ba6e9b",
   "metadata": {},
   "source": [
    "#### 03.1.2 Estructura\n",
    "\n",
    "En las siguientes celdas podemos obtener información relevante acerca de la estructura de la información obtenida del servidor remoto"
   ]
  },
  {
   "cell_type": "code",
   "execution_count": null,
   "id": "afd00205-6f28-4151-baa9-b9c63f27602f",
   "metadata": {},
   "outputs": [],
   "source": [
    "type(retrieved_data)"
   ]
  },
  {
   "cell_type": "code",
   "execution_count": null,
   "id": "8214437a-1f73-4243-b9bd-38f8906f3b4a",
   "metadata": {},
   "outputs": [],
   "source": [
    "retrieved_keys = retrieved_data.keys()\n",
    "print(retrieved_keys)"
   ]
  },
  {
   "cell_type": "markdown",
   "id": "e8bf23ef-ce8a-4aea-abd0-4bf41bb8a03b",
   "metadata": {},
   "source": [
    "#### 03.1.3 Tipo de datos\n",
    "\n",
    "La información obtenida está organizada en 5 elementos superficiales, sin embargo, uno de ellos tiene más de lo que aparenta"
   ]
  },
  {
   "cell_type": "code",
   "execution_count": null,
   "id": "acbf033b-fcf6-481f-b6ea-8de834026836",
   "metadata": {},
   "outputs": [],
   "source": [
    "for key in retrieved_keys:\n",
    "    print(key + \"\\t\" +str(type(retrieved_data[key])))"
   ]
  },
  {
   "cell_type": "markdown",
   "id": "13c1de7e-02a2-4911-884e-63edcb532a58",
   "metadata": {},
   "source": [
    "#### 03.1.4 Estructura, again\n",
    "\n",
    "El elemento \"results\" dentro de nuestro objeto de python es de tipo `list`\n",
    "\n",
    "Ésto nos indica que podemos iterar sobre dicha lista y accesar los valores presentes en ella"
   ]
  },
  {
   "cell_type": "code",
   "execution_count": null,
   "id": "a459ce20-3889-4336-a7bf-f856b1268362",
   "metadata": {},
   "outputs": [],
   "source": [
    "print(len(retrieved_data[\"results\"]))"
   ]
  },
  {
   "cell_type": "code",
   "execution_count": null,
   "id": "9010a648-a5f4-4dd4-a160-717991e1360e",
   "metadata": {},
   "outputs": [],
   "source": [
    "print(type(retrieved_data[\"results\"][0]))"
   ]
  },
  {
   "cell_type": "code",
   "execution_count": null,
   "id": "d4002f26-658e-4e22-8811-f55520b440f1",
   "metadata": {},
   "outputs": [],
   "source": [
    "print(retrieved_data[\"results\"][0].keys())"
   ]
  },
  {
   "cell_type": "code",
   "execution_count": null,
   "id": "cc523387-83a1-4296-ac0f-cc57926a992d",
   "metadata": {},
   "outputs": [],
   "source": [
    "results_keys = retrieved_data[\"results\"][0].keys()\n",
    "for key in results_keys:\n",
    "    print(key + \"\\t\" +str(type(retrieved_data[\"results\"][0][key])))"
   ]
  },
  {
   "cell_type": "markdown",
   "id": "6d99cc25-db2c-4196-bee3-b36a0cb6cab4",
   "metadata": {},
   "source": [
    "## 04 - Obteniendo información básica"
   ]
  },
  {
   "cell_type": "markdown",
   "id": "9f5df7b2-1283-428a-a416-41dc7a057790",
   "metadata": {},
   "source": [
    "### 04.1 Elementos superficiales\n",
    "\n",
    "Los elementos superficiales del diccionario `retrieved_data` los podemos accesar directamente a través del nombre de su llave"
   ]
  },
  {
   "cell_type": "code",
   "execution_count": null,
   "id": "6be37646-488c-429f-a6dd-4efe1d3d9d31",
   "metadata": {},
   "outputs": [],
   "source": [
    "entries   = retrieved_data[\"total\"]\n",
    "page      = retrieved_data[\"page\"]\n",
    "pages     = retrieved_data[\"pages\"]\n",
    "page_size = retrieved_data[\"pageSize\"]"
   ]
  },
  {
   "cell_type": "markdown",
   "id": "8aa397cb-6409-4993-bbb8-de0b980bee7c",
   "metadata": {},
   "source": [
    "### 04.2 Elementos anidados\n",
    "\n",
    "Los elementos anidados, como `results`, tenemos que sub indizarlos, es decir, primero llamamos la llave results y luego el índice de cada sub elemento\n",
    "\n",
    "Para accesar al primer elemento llamamos al índice `[0]`"
   ]
  },
  {
   "cell_type": "code",
   "execution_count": null,
   "id": "c9fc415e-72f8-4fbb-ba9d-e8fbcaa7af24",
   "metadata": {},
   "outputs": [],
   "source": [
    "retrieved_data[\"results\"][0]"
   ]
  },
  {
   "cell_type": "code",
   "execution_count": null,
   "id": "39939f6c-53f2-48e4-8327-6f13124b337b",
   "metadata": {},
   "outputs": [],
   "source": [
    "type(retrieved_data[\"results\"][0])"
   ]
  },
  {
   "cell_type": "markdown",
   "id": "2c6d29b9-b8d9-47d3-b526-a448bdb2fc9f",
   "metadata": {},
   "source": [
    "## 05 - Nuestro mejor amigo el diccionario\n",
    "\n",
    "Los desarrolladores detrás de las APIs usualmente muestran los datos de forma bien estructurada.\n",
    "\n",
    "Podemos tomar ventaja de ello y convertir todo el elemento `results` en un dataframe usando pandas"
   ]
  },
  {
   "cell_type": "code",
   "execution_count": null,
   "id": "124b0463-a5c2-404d-8ab9-baa582ff6fb4",
   "metadata": {},
   "outputs": [],
   "source": [
    "df = pd.DataFrame.from_dict(retrieved_data[\"results\"])"
   ]
  },
  {
   "cell_type": "code",
   "execution_count": null,
   "id": "f03f99ec-fae7-46b9-9017-f415e0349813",
   "metadata": {},
   "outputs": [],
   "source": [
    "df"
   ]
  },
  {
   "cell_type": "markdown",
   "id": "b53812eb-26b6-4d71-91c4-6bc5319eba42",
   "metadata": {},
   "source": [
    "### 05.1 Ahorrandonos unos clicks\n",
    "\n",
    "Ya que tenemos nuestro dataframe, podemos exportarlo a algo más legible y transportable"
   ]
  },
  {
   "cell_type": "code",
   "execution_count": null,
   "id": "cb99eb0b-8466-40ef-bf07-ddc4151236cb",
   "metadata": {},
   "outputs": [],
   "source": [
    "df.to_csv(\"resultados.tsv\",sep=\"\\t\",index=False)"
   ]
  },
  {
   "cell_type": "markdown",
   "id": "a8e33d74-d38d-40fc-8c15-5d318188b047",
   "metadata": {},
   "source": [
    "## 06 - Entrando al agujero de conejo\n",
    "\n",
    "En el sitio de transparencia presupuestaria puedes consultar más información acerca de cada proyecto\n",
    "\n",
    "El sitio te lleva a la página [https://www.transparenciapresupuestaria.gob.mx/ficha_opa](https://www.transparenciapresupuestaria.gob.mx/ficha_opa)\n",
    "\n",
    "Sin embargo, en dicha página no puedes hacer consultas si no es desde la página anterior (Obra Pública Abierta)\n",
    "\n",
    "Si analizamos nuestro entorno de desarrollo en el navegador, veremos que se hace una llamada a una segunda API\n",
    "\n",
    "Dicha API está albergada en [https://nptp.hacienda.gob.mx/programas/detalle](https://nptp.hacienda.gob.mx/programas/detalle)\n",
    "\n",
    "Y espera como único parámetro `id_clave_cartera`"
   ]
  },
  {
   "cell_type": "markdown",
   "id": "2f1d50e7-2de0-4bc9-b12b-943f7eae2c95",
   "metadata": {},
   "source": [
    "### 06.1 Preparando el acceso por lote\n",
    "\n",
    "Ya sea desde nuestro dataframe o desde nuestro objeto JSON, podemos obtener una lista de los valores de `id_clave_cartera`\n",
    "\n",
    "Con dicha lista podemos interrogar la segunda API para obtener información más detallada de cada proyecto\n",
    "\n",
    ">Spoiler, encontraremos más información de la que se muestra en el sitio web!\n",
    "\n",
    "Primero construimos una lista y la llenamos con los valores de `id_clave_cartera`"
   ]
  },
  {
   "cell_type": "code",
   "execution_count": null,
   "id": "1d245aba-e580-4b29-bcef-998ae81b6e20",
   "metadata": {},
   "outputs": [],
   "source": [
    "id_clave_cartera_list = []\n",
    "for entry in range(page_size):\n",
    "    id_clave_cartera_list.append(retrieved_data[\"results\"][entry][\"id_clave_cartera\"])"
   ]
  },
  {
   "cell_type": "code",
   "execution_count": null,
   "id": "0a5a67c7-4bd0-4743-85cf-8bfd0d5bad4f",
   "metadata": {},
   "outputs": [],
   "source": [
    "id_clave_cartera_list"
   ]
  },
  {
   "cell_type": "markdown",
   "id": "b2794bd9-0a4b-4d13-9486-d7d87e9af0a7",
   "metadata": {},
   "source": [
    "### 06.2 Una prueba rápida\n",
    "\n",
    "Antes de lanzar toda la lista de ids, probemos con solamente un elemento.\n",
    "\n",
    "Haremos lo mismo que en la primera parte, prepararemos un diccionario que contiene los parámetros que le pasaremos a la API"
   ]
  },
  {
   "cell_type": "code",
   "execution_count": null,
   "id": "810fc528-c799-4b5a-bc6b-b5bf897d38a2",
   "metadata": {},
   "outputs": [],
   "source": [
    "ext_data = {\"id_clave_cartera\" : \"0616B000034\"}"
   ]
  },
  {
   "cell_type": "markdown",
   "id": "6bc6fa8b-d5c4-40ca-83f6-887fb8805cd4",
   "metadata": {},
   "source": [
    "#### 06.2.1 Igualmente haremos una limpieza de datos"
   ]
  },
  {
   "cell_type": "code",
   "execution_count": null,
   "id": "17438a71-e931-446e-996a-5e2a2468b7d4",
   "metadata": {},
   "outputs": [],
   "source": [
    "remove_keys = []\n",
    "for key in ext_data.keys():\n",
    "    if (ext_data[key] == \"\"):\n",
    "        remove_keys.append(key)\n",
    "for key in remove_keys:\n",
    "    del ext_data[key]\n",
    "if(len(ext_data.keys())!=0):\n",
    "    ext_request = requests.get(\"https://nptp.hacienda.gob.mx/programas/detalle\",params=ext_data)"
   ]
  },
  {
   "cell_type": "code",
   "execution_count": null,
   "id": "7aa54c5c-6c0b-4a59-8748-8442c96991a7",
   "metadata": {},
   "outputs": [],
   "source": [
    "print(ext_request.url)"
   ]
  },
  {
   "cell_type": "markdown",
   "id": "8203bd0d-6d05-4bee-aad1-4b74d6a0a56c",
   "metadata": {},
   "source": [
    "#### 06.2.2 Status code"
   ]
  },
  {
   "cell_type": "code",
   "execution_count": null,
   "id": "a0b14d7f-eaeb-411d-a6fa-23ce6244c25b",
   "metadata": {},
   "outputs": [],
   "source": [
    "if (ext_request.status_code == requests.codes.ok):\n",
    "    print(\"Solicitud efectuada exitosamente\")\n",
    "else:\n",
    "    print(\"Error en la solicitud\"+str(ext_request.status_code))"
   ]
  },
  {
   "cell_type": "code",
   "execution_count": null,
   "id": "803a19a4-fa12-4a92-9e88-0362eaaef435",
   "metadata": {},
   "outputs": [],
   "source": [
    "if (ext_request.status_code == requests.codes.ok):\n",
    "    retrieved_details = ext_request.json()"
   ]
  },
  {
   "cell_type": "markdown",
   "id": "51dfa935-02ce-46b3-b890-d9379831230b",
   "metadata": {},
   "source": [
    "#### 06.2.3 Exploración de los datos\n",
    "\n",
    "En este punto ya es más sencillo ir directo sobre los datos\n",
    "\n",
    "Vamos a analizar el objeto recibido y pensemos en formas de transformar la información recibida en formatos más manejables\n",
    "\n",
    "Pensemos tambien en cuales serían los siguientes pasos para la automatización de extracción de información, tanto de la primera como de la segunda API"
   ]
  },
  {
   "cell_type": "code",
   "execution_count": null,
   "id": "d3b84196-a149-4bd3-bf59-d74c1f43cfe2",
   "metadata": {},
   "outputs": [],
   "source": [
    "retrieved_details"
   ]
  },
  {
   "cell_type": "code",
   "execution_count": null,
   "id": "a23dbc78-721b-4ddd-86a4-2ea65a742ab5",
   "metadata": {},
   "outputs": [],
   "source": [
    "for key in retrieved_details[0].keys():\n",
    "    print(key+\"\\t\"+str(type(retrieved_details[0][key])))"
   ]
  },
  {
   "cell_type": "code",
   "execution_count": null,
   "id": "40f9329d-77bc-43fa-ba33-43e3e4c07d44",
   "metadata": {},
   "outputs": [],
   "source": [
    "useful_keys = []"
   ]
  },
  {
   "cell_type": "code",
   "execution_count": null,
   "id": "2ac588f1-e9d1-42c3-a162-38d5f8aa70fb",
   "metadata": {},
   "outputs": [],
   "source": [
    "page_size = 20\n",
    "url_data = {\"id_entidad_federativa\":\"11\",\n",
    "            \"page\":\"1\",\n",
    "            \"pageSize\":page_size}\n",
    "url_request = requests.get('https://nptp.hacienda.gob.mx/programas/mapa',params=url_data)\n",
    "retrieved_data = url_request.json()\n",
    "total_results = retrieved_data[\"total\"]\n",
    "num_queries = int(total_results/page_size) + 1 \n",
    "for query in range(num_queries):\n",
    "    query_data = {\"id_entidad_federativa\":\"11\",\n",
    "                  \"page\":query,\n",
    "                  \"pageSize\":page_size}\n",
    "    query_request = requests.get('https://nptp.hacienda.gob.mx/programas/mapa',params=query_data)\n",
    "    query_retrieved_data = query_request.json()"
   ]
  }
 ],
 "metadata": {
  "kernelspec": {
   "display_name": "Python 3 (ipykernel)",
   "language": "python",
   "name": "python3"
  },
  "language_info": {
   "codemirror_mode": {
    "name": "ipython",
    "version": 3
   },
   "file_extension": ".py",
   "mimetype": "text/x-python",
   "name": "python",
   "nbconvert_exporter": "python",
   "pygments_lexer": "ipython3",
   "version": "3.11.10"
  }
 },
 "nbformat": 4,
 "nbformat_minor": 5
}
