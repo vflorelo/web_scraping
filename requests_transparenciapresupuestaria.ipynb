{
 "cells": [
  {
   "cell_type": "markdown",
   "id": "38a06b44-53c5-44d4-8803-9ca99da76533",
   "metadata": {
    "jp-MarkdownHeadingCollapsed": true
   },
   "source": [
    "## 00 - Preparamos el entorno cargando las bibliotecas necesarias\n",
    "En caso de que dichas bibliotecas no estén instaladas, es necesario ejecutar el siguiente bloque de código\n",
    "```\n",
    "! pip install --upgrade requests numpy pandas\n",
    "```"
   ]
  },
  {
   "cell_type": "code",
   "execution_count": 1,
   "id": "7dbe59d7-16be-4bb8-9c41-641054df544d",
   "metadata": {},
   "outputs": [],
   "source": [
    "import requests\n",
    "import numpy as np\n",
    "import json\n",
    "import pandas as pd"
   ]
  },
  {
   "cell_type": "markdown",
   "id": "cb8634c7-9dae-457d-88a6-5a270ac37433",
   "metadata": {},
   "source": [
    "## 01 - Preparación de la solicitud\n",
    "Cuando interactuar con el servidor [www.transparenciapresupuestaria.gob.mx](https://www.transparenciapresupuestaria.gob.mx), dicho servidor espera información por parte nuestra.\n",
    "\n",
    "En el navegador, el frontend se encarga de preparar el request mediante la interacción con el usuario\n",
    "\n",
    "<img src=\"transparenciapresupuestaria.png\" width=\"500px\"/>\n",
    "\n",
    "El servidor remoto usa la api albergada en [https://nptp.hacienda.gob.mx/programas/mapa](https://nptp.hacienda.gob.mx/programas/mapa).\n",
    "\n",
    "Qué pasa si haces click en el link anterior?"
   ]
  },
  {
   "cell_type": "markdown",
   "id": "b19d64ad-2079-4fe8-9129-e8b36b9971b3",
   "metadata": {},
   "source": [
    "### 01.1 - Un diccionario simple\n",
    "En la siguiente celda, podrás construir un diccionario en el que se almacenan los distintos parámetros que le podemos pasar a la API de Transparencia Presupuestaria"
   ]
  },
  {
   "cell_type": "code",
   "execution_count": 2,
   "id": "4ab01e97-4b2f-4542-970d-ac2e21a73ce3",
   "metadata": {},
   "outputs": [],
   "source": [
    "url_data = {\"id_entidad_federativa\":\"1\",\n",
    "            \"id_ramo\":\"\",\n",
    "            \"desc_ppi\":\"\",\n",
    "            \"id_clave_cartera\":\"\",\n",
    "            \"page\":\"1\",\n",
    "            \"pageSize\":\"20\"}"
   ]
  },
  {
   "cell_type": "markdown",
   "id": "51cda2c2-21bf-4e8b-b390-bf76cbeed246",
   "metadata": {},
   "source": [
    "### 01.1 - Limpieza de datos\n",
    "\n",
    "Para un humano es sencillo notar si algo está vacío, sencillamente lo omites y listo.\n",
    "\n",
    "Para una API esto no siempre es obvio, por lo que antes de lanzar nuestra solicitud, debemos limpiar el diccionario, para no pasarle parámetros vacíos a la solicitud"
   ]
  },
  {
   "cell_type": "code",
   "execution_count": 3,
   "id": "cf9e0623-6572-450e-b01c-28540d059f83",
   "metadata": {},
   "outputs": [],
   "source": [
    "remove_keys = []\n",
    "for key in url_data.keys():\n",
    "    if (url_data[key] == \"\"):\n",
    "        remove_keys.append(key)\n",
    "for key in remove_keys:\n",
    "    del url_data[key]"
   ]
  },
  {
   "cell_type": "code",
   "execution_count": 4,
   "id": "b22af45e-9b55-49af-a09c-eef1d3533d67",
   "metadata": {},
   "outputs": [
    {
     "name": "stdout",
     "output_type": "stream",
     "text": [
      "{'id_entidad_federativa': '1', 'page': '1', 'pageSize': '20'}\n"
     ]
    }
   ],
   "source": [
    "print(url_data)"
   ]
  },
  {
   "cell_type": "markdown",
   "id": "907dbc11-ca58-4574-bb91-8c3d02c9be51",
   "metadata": {},
   "source": [
    "## 02 - Solicitud usando requests\n",
    "\n",
    "Ya que limpiamos el set de parámetros que le vamos a pasar a la URL de la API, podemos lanzar la solicitud\n",
    "\n",
    "No obstante, si el set de parámetros está vacío, mejor es no pasarle nada a la API y usar los defaults"
   ]
  },
  {
   "cell_type": "code",
   "execution_count": 5,
   "id": "3913d885-67ec-4da4-9b91-892f31233111",
   "metadata": {},
   "outputs": [],
   "source": [
    "if(len(url_data.keys())==0):\n",
    "    url_request = requests.get('https://nptp.hacienda.gob.mx/programas/mapa')\n",
    "else:\n",
    "    url_request = requests.get('https://nptp.hacienda.gob.mx/programas/mapa',params=url_data)"
   ]
  },
  {
   "cell_type": "markdown",
   "id": "3a6a7e27-e097-4274-a81b-391183927b97",
   "metadata": {},
   "source": [
    "### 02.1 Safety checks"
   ]
  },
  {
   "cell_type": "markdown",
   "id": "5b1c918e-4aba-49b2-8386-d4d410494edd",
   "metadata": {},
   "source": [
    "Si todo salió bien con el código anterior, podemos revisar algunos elementos de nuestra solicitud\n",
    "\n",
    "Al ejecutar el código en la siguiente celda podemos ver el URL de la API.\n",
    "\n",
    "Puedes hacer click en el link y revisar el output en el navegador\n",
    "\n",
    ">**Feeling daring?**\n",
    "\n",
    ">Tambien puedes usar [curl](https://curl.se/) y [JQ](https://jqlang.github.io/jq/) para llamar a la API y obtener resultados de consulta en tu terminal\n",
    "\n",
    ">La regla no escrita en cómputo es que siempre hay más de una manera de hacer las cosas"
   ]
  },
  {
   "cell_type": "code",
   "execution_count": 6,
   "id": "51972b5f-9f01-4730-87bd-33012f80bd4e",
   "metadata": {},
   "outputs": [
    {
     "name": "stdout",
     "output_type": "stream",
     "text": [
      "https://nptp.hacienda.gob.mx/programas/mapa?id_entidad_federativa=1&page=1&pageSize=20\n"
     ]
    }
   ],
   "source": [
    "print(url_request.url)"
   ]
  },
  {
   "cell_type": "markdown",
   "id": "7fa07a7f-3b29-420c-8baa-5c4fe37e7a0c",
   "metadata": {},
   "source": [
    "### 02.2 Status code\n",
    "\n",
    "Si bien realizamos la solicitud exitosamente, no significa que el servidor haya aceptado dicha solicitud\n",
    "\n",
    "Podemos checar el status code como una instancia de requests\n",
    "\n",
    "Y en una sola línea, podemos compararlo con códigos permisibles"
   ]
  },
  {
   "cell_type": "code",
   "execution_count": 7,
   "id": "ca30a7e5-3803-4a64-91da-88cff49c8bdc",
   "metadata": {},
   "outputs": [
    {
     "name": "stdout",
     "output_type": "stream",
     "text": [
      "Solicitud efectuada exitosamente\n"
     ]
    }
   ],
   "source": [
    "if (url_request.status_code == requests.codes.ok):\n",
    "    print(\"Solicitud efectuada exitosamente\")\n",
    "else:\n",
    "    print(\"Error en la solicitud\"+str(url_request.status_code))"
   ]
  },
  {
   "cell_type": "markdown",
   "id": "5bb60f0b-4bbf-4fc3-a3c1-61607d65d440",
   "metadata": {},
   "source": [
    "## 03 - Data retrieval\n",
    "\n",
    "Si nuestra solicitud se llevó a cabo exitosamente, el servidor nos entregará la información en formato [JSON](https://en.wikipedia.org/wiki/JSON)\n",
    "\n",
    ">***Es sumamente importante revisar la API de cada sitio web, aún hay sitios que entregan XML, texto plano o incluso HTML***\n",
    "\n",
    ">Los parseadores que usemos para obtener información de cada sitio deberán ajustarse al formato que el servidor entreguen"
   ]
  },
  {
   "cell_type": "code",
   "execution_count": 8,
   "id": "f467ca2d-1269-4afa-b98f-bed748534298",
   "metadata": {},
   "outputs": [],
   "source": [
    "if (url_request.status_code == requests.codes.ok):\n",
    "    retrieved_data = url_request.json()"
   ]
  },
  {
   "cell_type": "markdown",
   "id": "ce56d7fc-01ea-44be-a1f9-a5f8b3399e8d",
   "metadata": {},
   "source": [
    "### 03.1 Resumen de nuestros datos\n",
    "\n",
    "Antes de procesar los datos es indispensable tener una idea de:\n",
    "\n",
    "- Qué tamaño tienen\n",
    "- Cómo están estructurados\n",
    "- Qué tipo de datos están almacenados en cada *campo*"
   ]
  },
  {
   "cell_type": "markdown",
   "id": "b8ac6f74-c9c2-428c-b05e-37118f473db0",
   "metadata": {},
   "source": [
    "#### 03.1.1 Tamaño\n",
    "JSON es un formato que puede ser tan superficial o tan profundo cómo queramos, con el siguiente código podemos ver cuantos elementos nos mandó el servidor a nivel superficial"
   ]
  },
  {
   "cell_type": "code",
   "execution_count": 9,
   "id": "5d8c136b-4dc7-4d9c-99c7-ca6db8f5e410",
   "metadata": {},
   "outputs": [
    {
     "name": "stdout",
     "output_type": "stream",
     "text": [
      "5\n"
     ]
    }
   ],
   "source": [
    "print(len(retrieved_data))"
   ]
  },
  {
   "cell_type": "markdown",
   "id": "2efbfcf4-891a-4c71-9932-fbb537ba6e9b",
   "metadata": {},
   "source": [
    "#### 03.1.2 Estructura\n",
    "\n",
    "En las siguientes celdas podemos obtener información relevante acerca de la estructura de la información obtenida del servidor remoto"
   ]
  },
  {
   "cell_type": "code",
   "execution_count": 10,
   "id": "afd00205-6f28-4151-baa9-b9c63f27602f",
   "metadata": {},
   "outputs": [
    {
     "data": {
      "text/plain": [
       "dict"
      ]
     },
     "execution_count": 10,
     "metadata": {},
     "output_type": "execute_result"
    }
   ],
   "source": [
    "type(retrieved_data)"
   ]
  },
  {
   "cell_type": "code",
   "execution_count": 11,
   "id": "8214437a-1f73-4243-b9bd-38f8906f3b4a",
   "metadata": {},
   "outputs": [
    {
     "name": "stdout",
     "output_type": "stream",
     "text": [
      "dict_keys(['total', 'results', 'page', 'pageSize', 'pages'])\n"
     ]
    }
   ],
   "source": [
    "retrieved_keys = retrieved_data.keys()\n",
    "print(retrieved_keys)"
   ]
  },
  {
   "cell_type": "markdown",
   "id": "e8bf23ef-ce8a-4aea-abd0-4bf41bb8a03b",
   "metadata": {},
   "source": [
    "#### 03.1.3 Tipo de datos\n",
    "\n",
    "La información obtenida está organizada en 5 elementos superficiales, sin embargo, uno de ellos tiene más de lo que aparenta"
   ]
  },
  {
   "cell_type": "code",
   "execution_count": 12,
   "id": "acbf033b-fcf6-481f-b6ea-8de834026836",
   "metadata": {},
   "outputs": [
    {
     "name": "stdout",
     "output_type": "stream",
     "text": [
      "total\t<class 'int'>\n",
      "results\t<class 'list'>\n",
      "page\t<class 'int'>\n",
      "pageSize\t<class 'int'>\n",
      "pages\t<class 'float'>\n"
     ]
    }
   ],
   "source": [
    "for key in retrieved_keys:\n",
    "    print(key + \"\\t\" +str(type(retrieved_data[key])))"
   ]
  },
  {
   "cell_type": "markdown",
   "id": "13c1de7e-02a2-4911-884e-63edcb532a58",
   "metadata": {},
   "source": [
    "#### 03.1.4 Estructura, again\n",
    "\n",
    "El elemento \"results\" dentro de nuestro objeto de python es de tipo `list`\n",
    "\n",
    "Ésto nos indica que podemos iterar sobre dicha lista y accesar los valores presentes en ella"
   ]
  },
  {
   "cell_type": "code",
   "execution_count": 13,
   "id": "a459ce20-3889-4336-a7bf-f856b1268362",
   "metadata": {},
   "outputs": [
    {
     "name": "stdout",
     "output_type": "stream",
     "text": [
      "20\n"
     ]
    }
   ],
   "source": [
    "print(len(retrieved_data[\"results\"]))"
   ]
  },
  {
   "cell_type": "code",
   "execution_count": 14,
   "id": "9010a648-a5f4-4dd4-a160-717991e1360e",
   "metadata": {},
   "outputs": [
    {
     "name": "stdout",
     "output_type": "stream",
     "text": [
      "<class 'dict'>\n"
     ]
    }
   ],
   "source": [
    "print(type(retrieved_data[\"results\"][0]))"
   ]
  },
  {
   "cell_type": "code",
   "execution_count": 15,
   "id": "d4002f26-658e-4e22-8811-f55520b440f1",
   "metadata": {},
   "outputs": [
    {
     "name": "stdout",
     "output_type": "stream",
     "text": [
      "dict_keys(['id_clave_cartera', 'desc_ppi', 'id_ramo', 'id_entidad_federativa', 'latitud', 'longitud', 'monto_inversion_total', 'ciclo', 'fase', 'desc_ramo', 'desc_entidad_federativa', 'tipo_proyecto'])\n"
     ]
    }
   ],
   "source": [
    "print(retrieved_data[\"results\"][0].keys())"
   ]
  },
  {
   "cell_type": "code",
   "execution_count": 16,
   "id": "cc523387-83a1-4296-ac0f-cc57926a992d",
   "metadata": {},
   "outputs": [
    {
     "name": "stdout",
     "output_type": "stream",
     "text": [
      "id_clave_cartera\t<class 'str'>\n",
      "desc_ppi\t<class 'str'>\n",
      "id_ramo\t<class 'int'>\n",
      "id_entidad_federativa\t<class 'str'>\n",
      "latitud\t<class 'float'>\n",
      "longitud\t<class 'float'>\n",
      "monto_inversion_total\t<class 'int'>\n",
      "ciclo\t<class 'int'>\n",
      "fase\t<class 'str'>\n",
      "desc_ramo\t<class 'str'>\n",
      "desc_entidad_federativa\t<class 'str'>\n",
      "tipo_proyecto\t<class 'str'>\n"
     ]
    }
   ],
   "source": [
    "results_keys = retrieved_data[\"results\"][0].keys()\n",
    "for key in results_keys:\n",
    "    print(key + \"\\t\" +str(type(retrieved_data[\"results\"][0][key])))"
   ]
  },
  {
   "cell_type": "markdown",
   "id": "6d99cc25-db2c-4196-bee3-b36a0cb6cab4",
   "metadata": {},
   "source": [
    "## 04 - Obteniendo información básica"
   ]
  },
  {
   "cell_type": "markdown",
   "id": "9f5df7b2-1283-428a-a416-41dc7a057790",
   "metadata": {},
   "source": [
    "### 04.1 Elementos superficiales\n",
    "\n",
    "Los elementos superficiales del diccionario `retrieved_data` los podemos accesar directamente a través del nombre de su llave"
   ]
  },
  {
   "cell_type": "code",
   "execution_count": 17,
   "id": "6be37646-488c-429f-a6dd-4efe1d3d9d31",
   "metadata": {},
   "outputs": [],
   "source": [
    "entries   = retrieved_data[\"total\"]\n",
    "page      = retrieved_data[\"page\"]\n",
    "pages     = retrieved_data[\"pages\"]\n",
    "page_size = retrieved_data[\"pageSize\"]"
   ]
  },
  {
   "cell_type": "markdown",
   "id": "8aa397cb-6409-4993-bbb8-de0b980bee7c",
   "metadata": {},
   "source": [
    "### 04.2 Elementos anidados\n",
    "\n",
    "Los elementos anidados, como `results`, tenemos que sub indizarlos, es decir, primero llamamos la llave results y luego el índice de cada sub elemento\n",
    "\n",
    "Para accesar al primer elemento llamamos al índice `[0]`"
   ]
  },
  {
   "cell_type": "code",
   "execution_count": 18,
   "id": "c9fc415e-72f8-4fbb-ba9d-e8fbcaa7af24",
   "metadata": {},
   "outputs": [
    {
     "data": {
      "text/plain": [
       "{'id_clave_cartera': '11096210010',\n",
       " 'desc_ppi': 'Tercer Anillo, Primera Etapa.',\n",
       " 'id_ramo': 9,\n",
       " 'id_entidad_federativa': '01',\n",
       " 'latitud': 21.9523,\n",
       " 'longitud': -102.3529,\n",
       " 'monto_inversion_total': 906008771,\n",
       " 'ciclo': 2024,\n",
       " 'fase': 'Calendario Fiscal Concluido / Operación',\n",
       " 'desc_ramo': 'Comunicaciones y Transportes',\n",
       " 'desc_entidad_federativa': 'AGUASCALIENTES',\n",
       " 'tipo_proyecto': 'Proyecto de Inversión de Infraestructura Económica'}"
      ]
     },
     "execution_count": 18,
     "metadata": {},
     "output_type": "execute_result"
    }
   ],
   "source": [
    "retrieved_data[\"results\"][0]"
   ]
  },
  {
   "cell_type": "code",
   "execution_count": 19,
   "id": "39939f6c-53f2-48e4-8327-6f13124b337b",
   "metadata": {},
   "outputs": [
    {
     "data": {
      "text/plain": [
       "dict"
      ]
     },
     "execution_count": 19,
     "metadata": {},
     "output_type": "execute_result"
    }
   ],
   "source": [
    "type(retrieved_data[\"results\"][0])"
   ]
  },
  {
   "cell_type": "markdown",
   "id": "2c6d29b9-b8d9-47d3-b526-a448bdb2fc9f",
   "metadata": {},
   "source": [
    "## 05 - Nuestro mejor amigo el diccionario\n",
    "\n",
    "Los desarrolladores detrás de las APIs usualmente muestran los datos de forma bien estructurada.\n",
    "\n",
    "Podemos tomar ventaja de ello y convertir todo el elemento `results` en un dataframe usando pandas"
   ]
  },
  {
   "cell_type": "code",
   "execution_count": 20,
   "id": "124b0463-a5c2-404d-8ab9-baa582ff6fb4",
   "metadata": {},
   "outputs": [],
   "source": [
    "df = pd.DataFrame.from_dict(retrieved_data[\"results\"])"
   ]
  },
  {
   "cell_type": "code",
   "execution_count": 21,
   "id": "f03f99ec-fae7-46b9-9017-f415e0349813",
   "metadata": {},
   "outputs": [
    {
     "data": {
      "text/html": [
       "<div>\n",
       "<style scoped>\n",
       "    .dataframe tbody tr th:only-of-type {\n",
       "        vertical-align: middle;\n",
       "    }\n",
       "\n",
       "    .dataframe tbody tr th {\n",
       "        vertical-align: top;\n",
       "    }\n",
       "\n",
       "    .dataframe thead th {\n",
       "        text-align: right;\n",
       "    }\n",
       "</style>\n",
       "<table border=\"1\" class=\"dataframe\">\n",
       "  <thead>\n",
       "    <tr style=\"text-align: right;\">\n",
       "      <th></th>\n",
       "      <th>id_clave_cartera</th>\n",
       "      <th>desc_ppi</th>\n",
       "      <th>id_ramo</th>\n",
       "      <th>id_entidad_federativa</th>\n",
       "      <th>latitud</th>\n",
       "      <th>longitud</th>\n",
       "      <th>monto_inversion_total</th>\n",
       "      <th>ciclo</th>\n",
       "      <th>fase</th>\n",
       "      <th>desc_ramo</th>\n",
       "      <th>desc_entidad_federativa</th>\n",
       "      <th>tipo_proyecto</th>\n",
       "    </tr>\n",
       "  </thead>\n",
       "  <tbody>\n",
       "    <tr>\n",
       "      <th>0</th>\n",
       "      <td>11096210010</td>\n",
       "      <td>Tercer Anillo, Primera Etapa.</td>\n",
       "      <td>9</td>\n",
       "      <td>01</td>\n",
       "      <td>21.952300</td>\n",
       "      <td>-102.352900</td>\n",
       "      <td>906008771</td>\n",
       "      <td>2024</td>\n",
       "      <td>Calendario Fiscal Concluido / Operación</td>\n",
       "      <td>Comunicaciones y Transportes</td>\n",
       "      <td>AGUASCALIENTES</td>\n",
       "      <td>Proyecto de Inversión de Infraestructura Econó...</td>\n",
       "    </tr>\n",
       "    <tr>\n",
       "      <th>1</th>\n",
       "      <td>1807HXA0019</td>\n",
       "      <td>Mantenimiento y rehabilitación de la UHM Calvi...</td>\n",
       "      <td>7</td>\n",
       "      <td>01</td>\n",
       "      <td>0.000000</td>\n",
       "      <td>0.000000</td>\n",
       "      <td>17813128</td>\n",
       "      <td>2024</td>\n",
       "      <td>Calendario Fiscal Concluido / Operación</td>\n",
       "      <td>Defensa Nacional</td>\n",
       "      <td>AGUASCALIENTES</td>\n",
       "      <td>Programa de Inversión de Mantenimiento</td>\n",
       "    </tr>\n",
       "    <tr>\n",
       "      <th>2</th>\n",
       "      <td>1950GYR0005</td>\n",
       "      <td>Premio IMSS a la Competitividad. Programa de s...</td>\n",
       "      <td>50</td>\n",
       "      <td>01</td>\n",
       "      <td>21.901375</td>\n",
       "      <td>-102.291674</td>\n",
       "      <td>478887</td>\n",
       "      <td>2024</td>\n",
       "      <td>Calendario Fiscal Concluido / Operación</td>\n",
       "      <td>Instituto Mexicano del Seguro Social</td>\n",
       "      <td>AGUASCALIENTES</td>\n",
       "      <td>Programa de Inversión de Adquisiciones</td>\n",
       "    </tr>\n",
       "    <tr>\n",
       "      <th>3</th>\n",
       "      <td>2006HJO0005</td>\n",
       "      <td>Construcción y Adquisición de Mobiliario y Equ...</td>\n",
       "      <td>6</td>\n",
       "      <td>01;02;03;04;06;07;10;11;12;13;14;15;16;17;18;1...</td>\n",
       "      <td>0.000000</td>\n",
       "      <td>0.000000</td>\n",
       "      <td>643148483</td>\n",
       "      <td>2024</td>\n",
       "      <td>Vigente</td>\n",
       "      <td>Hacienda y Crédito Público</td>\n",
       "      <td>AGUASCALIENTES;BAJA CALIFORNIA;BAJA CALIFORNIA...</td>\n",
       "      <td>Proyecto de Inversión de Infraestructura Guber...</td>\n",
       "    </tr>\n",
       "    <tr>\n",
       "      <th>4</th>\n",
       "      <td>2006HJO0006</td>\n",
       "      <td>Inversión para la construcción de 90 sucursale...</td>\n",
       "      <td>6</td>\n",
       "      <td>01;02;03;05;06;08;10;11;13;14;16;17;18;19;21;2...</td>\n",
       "      <td>0.000000</td>\n",
       "      <td>0.000000</td>\n",
       "      <td>483115190</td>\n",
       "      <td>2024</td>\n",
       "      <td>Vigente</td>\n",
       "      <td>Hacienda y Crédito Público</td>\n",
       "      <td>AGUASCALIENTES;BAJA CALIFORNIA;BAJA CALIFORNIA...</td>\n",
       "      <td>Proyecto de Inversión de Infraestructura Guber...</td>\n",
       "    </tr>\n",
       "    <tr>\n",
       "      <th>5</th>\n",
       "      <td>2006HJO0009</td>\n",
       "      <td>Inversión 89 nuevas sucursales Banco del Biene...</td>\n",
       "      <td>6</td>\n",
       "      <td>01;03;04;05;07;08;09;10;12;13;15;16;17;18;19;20</td>\n",
       "      <td>0.000000</td>\n",
       "      <td>0.000000</td>\n",
       "      <td>477747243</td>\n",
       "      <td>2024</td>\n",
       "      <td>Vigente</td>\n",
       "      <td>Hacienda y Crédito Público</td>\n",
       "      <td>AGUASCALIENTES;BAJA CALIFORNIA SUR;CAMPECHE;CO...</td>\n",
       "      <td>Proyecto de Inversión de Infraestructura Guber...</td>\n",
       "    </tr>\n",
       "    <tr>\n",
       "      <th>6</th>\n",
       "      <td>2050GYR0008</td>\n",
       "      <td>Estudios de Preinversión para el desarrollo de...</td>\n",
       "      <td>50</td>\n",
       "      <td>01;03;14;21;26</td>\n",
       "      <td>23.078357</td>\n",
       "      <td>-109.714003</td>\n",
       "      <td>55378654</td>\n",
       "      <td>2024</td>\n",
       "      <td>En Proceso de Modificación</td>\n",
       "      <td>Instituto Mexicano del Seguro Social</td>\n",
       "      <td>AGUASCALIENTES;BAJA CALIFORNIA SUR;JALISCO;PUE...</td>\n",
       "      <td>Programa de Estudios de Preinversión</td>\n",
       "    </tr>\n",
       "    <tr>\n",
       "      <th>7</th>\n",
       "      <td>2050GYR0032</td>\n",
       "      <td>Premio IMSS a la Competitividad. Programa de s...</td>\n",
       "      <td>50</td>\n",
       "      <td>01</td>\n",
       "      <td>21.901380</td>\n",
       "      <td>-102.291670</td>\n",
       "      <td>485345</td>\n",
       "      <td>2024</td>\n",
       "      <td>Calendario Fiscal Concluido / Operación</td>\n",
       "      <td>Instituto Mexicano del Seguro Social</td>\n",
       "      <td>AGUASCALIENTES</td>\n",
       "      <td>Programa de Inversión de Adquisiciones</td>\n",
       "    </tr>\n",
       "    <tr>\n",
       "      <th>8</th>\n",
       "      <td>2106HJO0002</td>\n",
       "      <td>Inversión 85 nuevas sucursales del Banco del B...</td>\n",
       "      <td>6</td>\n",
       "      <td>01;02;05;06;07;08;09;10;11;16;19;22;24;25;26</td>\n",
       "      <td>0.000000</td>\n",
       "      <td>0.000000</td>\n",
       "      <td>462328905</td>\n",
       "      <td>2024</td>\n",
       "      <td>Vigente</td>\n",
       "      <td>Hacienda y Crédito Público</td>\n",
       "      <td>AGUASCALIENTES;BAJA CALIFORNIA;COAHUILA DE ZAR...</td>\n",
       "      <td>Proyecto de Inversión de Infraestructura Guber...</td>\n",
       "    </tr>\n",
       "    <tr>\n",
       "      <th>9</th>\n",
       "      <td>2106HJO0007</td>\n",
       "      <td>Sustitución y adquisición adicional de equipo ...</td>\n",
       "      <td>6</td>\n",
       "      <td>01;02;03;04;05;06;07;08;09;10;11;12;13;14;15;1...</td>\n",
       "      <td>0.000000</td>\n",
       "      <td>0.000000</td>\n",
       "      <td>270826417</td>\n",
       "      <td>2024</td>\n",
       "      <td>Vigente</td>\n",
       "      <td>Hacienda y Crédito Público</td>\n",
       "      <td>AGUASCALIENTES;BAJA CALIFORNIA;BAJA CALIFORNIA...</td>\n",
       "      <td>Programa de Inversión de Adquisiciones</td>\n",
       "    </tr>\n",
       "    <tr>\n",
       "      <th>10</th>\n",
       "      <td>2106HJO0015</td>\n",
       "      <td>Inversión 72 nuevas sucursales del Banco del B...</td>\n",
       "      <td>6</td>\n",
       "      <td>01;04;07;09;12;20;21;29;30</td>\n",
       "      <td>0.000000</td>\n",
       "      <td>0.000000</td>\n",
       "      <td>387124923</td>\n",
       "      <td>2024</td>\n",
       "      <td>Vigente</td>\n",
       "      <td>Hacienda y Crédito Público</td>\n",
       "      <td>AGUASCALIENTES;CAMPECHE;CHIAPAS;CIUDAD DE MÉXI...</td>\n",
       "      <td>Proyecto de Inversión de Infraestructura Guber...</td>\n",
       "    </tr>\n",
       "    <tr>\n",
       "      <th>11</th>\n",
       "      <td>2106HJO0026</td>\n",
       "      <td>Inversión 72 nuevas sucursales del Banco del B...</td>\n",
       "      <td>6</td>\n",
       "      <td>01;11;16;24</td>\n",
       "      <td>0.000000</td>\n",
       "      <td>0.000000</td>\n",
       "      <td>386861268</td>\n",
       "      <td>2024</td>\n",
       "      <td>Vigente</td>\n",
       "      <td>Hacienda y Crédito Público</td>\n",
       "      <td>AGUASCALIENTES;GUANAJUATO;MICHOACAN;SAN LUIS P...</td>\n",
       "      <td>Proyecto de Inversión de Infraestructura Guber...</td>\n",
       "    </tr>\n",
       "    <tr>\n",
       "      <th>12</th>\n",
       "      <td>2106HJO0030</td>\n",
       "      <td>Inversión 73 nuevas sucursales del Banco del B...</td>\n",
       "      <td>6</td>\n",
       "      <td>01;08;10;14;15;17;18;21;32</td>\n",
       "      <td>0.000000</td>\n",
       "      <td>0.000000</td>\n",
       "      <td>391860098</td>\n",
       "      <td>2024</td>\n",
       "      <td>Vigente</td>\n",
       "      <td>Hacienda y Crédito Público</td>\n",
       "      <td>AGUASCALIENTES;CHIHUAHUA;DURANGO;JALISCO;ESTAD...</td>\n",
       "      <td>Proyecto de Inversión de Infraestructura Guber...</td>\n",
       "    </tr>\n",
       "    <tr>\n",
       "      <th>13</th>\n",
       "      <td>21096210001</td>\n",
       "      <td>Modernización del Libramiento Rincón de Romos</td>\n",
       "      <td>9</td>\n",
       "      <td>01</td>\n",
       "      <td>22.184938</td>\n",
       "      <td>-102.295146</td>\n",
       "      <td>607236918</td>\n",
       "      <td>2024</td>\n",
       "      <td>Cancelado</td>\n",
       "      <td>Infraestructura, Comunicaciones y Transportes</td>\n",
       "      <td>AGUASCALIENTES</td>\n",
       "      <td>Proyecto de Inversión de Infraestructura Econó...</td>\n",
       "    </tr>\n",
       "    <tr>\n",
       "      <th>14</th>\n",
       "      <td>2116B000056</td>\n",
       "      <td>Adquisición de Equipo para proyecto de macroin...</td>\n",
       "      <td>16</td>\n",
       "      <td>01;02;03;04;05;07;09;10;11;13;15;16;17;19;21;2...</td>\n",
       "      <td>19.419444</td>\n",
       "      <td>-99.145556</td>\n",
       "      <td>16516408</td>\n",
       "      <td>2024</td>\n",
       "      <td>En Proceso de Modificación</td>\n",
       "      <td>Medio Ambiente y Recursos Naturales</td>\n",
       "      <td>AGUASCALIENTES;BAJA CALIFORNIA;BAJA CALIFORNIA...</td>\n",
       "      <td>Programa de Inversión de Adquisiciones</td>\n",
       "    </tr>\n",
       "    <tr>\n",
       "      <th>15</th>\n",
       "      <td>2150GYR0021</td>\n",
       "      <td>Construcción de cancha de fútbol rápido en el ...</td>\n",
       "      <td>50</td>\n",
       "      <td>01</td>\n",
       "      <td>21.866343</td>\n",
       "      <td>-102.292416</td>\n",
       "      <td>3203641</td>\n",
       "      <td>2024</td>\n",
       "      <td>Calendario Fiscal Concluido / Operación</td>\n",
       "      <td>Instituto Mexicano del Seguro Social</td>\n",
       "      <td>AGUASCALIENTES</td>\n",
       "      <td>Proyecto de Inversión de Infraestructura Social</td>\n",
       "    </tr>\n",
       "    <tr>\n",
       "      <th>16</th>\n",
       "      <td>2150GYR0036</td>\n",
       "      <td>Ampliación y remodelación de la U.M.F. No. 6 J...</td>\n",
       "      <td>50</td>\n",
       "      <td>01</td>\n",
       "      <td>21.955500</td>\n",
       "      <td>-102.338600</td>\n",
       "      <td>74807540</td>\n",
       "      <td>2024</td>\n",
       "      <td>Vigente</td>\n",
       "      <td>Instituto Mexicano del Seguro Social</td>\n",
       "      <td>AGUASCALIENTES</td>\n",
       "      <td>Proyecto de Inversión de Infraestructura Social</td>\n",
       "    </tr>\n",
       "    <tr>\n",
       "      <th>17</th>\n",
       "      <td>2150GYR0059</td>\n",
       "      <td>Remodelación y Ampliación de Guardería Ordinar...</td>\n",
       "      <td>50</td>\n",
       "      <td>01</td>\n",
       "      <td>21.865860</td>\n",
       "      <td>-102.291353</td>\n",
       "      <td>10711747</td>\n",
       "      <td>2024</td>\n",
       "      <td>Vigente</td>\n",
       "      <td>Instituto Mexicano del Seguro Social</td>\n",
       "      <td>AGUASCALIENTES</td>\n",
       "      <td>Proyecto de Inversión de Infraestructura Social</td>\n",
       "    </tr>\n",
       "    <tr>\n",
       "      <th>18</th>\n",
       "      <td>2206E000004</td>\n",
       "      <td>Reemplazo de equipos de Aire Acondicionado par...</td>\n",
       "      <td>6</td>\n",
       "      <td>01;02;03;07;08;11;12;13;14;15;16;18;19;21;25;2...</td>\n",
       "      <td>17.640067</td>\n",
       "      <td>-101.558737</td>\n",
       "      <td>58999829</td>\n",
       "      <td>2024</td>\n",
       "      <td>Vigente</td>\n",
       "      <td>Hacienda y Crédito Público</td>\n",
       "      <td>AGUASCALIENTES;BAJA CALIFORNIA;BAJA CALIFORNIA...</td>\n",
       "      <td>Programa de Inversión de Adquisiciones</td>\n",
       "    </tr>\n",
       "    <tr>\n",
       "      <th>19</th>\n",
       "      <td>2236H000007</td>\n",
       "      <td>Adquisición de equipamiento para consultorios ...</td>\n",
       "      <td>36</td>\n",
       "      <td>01;08;09;15;21;24</td>\n",
       "      <td>22.188398</td>\n",
       "      <td>-100.981056</td>\n",
       "      <td>24233922</td>\n",
       "      <td>2024</td>\n",
       "      <td>Vigente</td>\n",
       "      <td>Seguridad y Protección Ciudadana</td>\n",
       "      <td>AGUASCALIENTES;CHIHUAHUA;CIUDAD DE MÉXICO;ESTA...</td>\n",
       "      <td>Programa de Inversión de Adquisiciones</td>\n",
       "    </tr>\n",
       "  </tbody>\n",
       "</table>\n",
       "</div>"
      ],
      "text/plain": [
       "   id_clave_cartera                                           desc_ppi  \\\n",
       "0       11096210010                      Tercer Anillo, Primera Etapa.   \n",
       "1       1807HXA0019  Mantenimiento y rehabilitación de la UHM Calvi...   \n",
       "2       1950GYR0005  Premio IMSS a la Competitividad. Programa de s...   \n",
       "3       2006HJO0005  Construcción y Adquisición de Mobiliario y Equ...   \n",
       "4       2006HJO0006  Inversión para la construcción de 90 sucursale...   \n",
       "5       2006HJO0009  Inversión 89 nuevas sucursales Banco del Biene...   \n",
       "6       2050GYR0008  Estudios de Preinversión para el desarrollo de...   \n",
       "7       2050GYR0032  Premio IMSS a la Competitividad. Programa de s...   \n",
       "8       2106HJO0002  Inversión 85 nuevas sucursales del Banco del B...   \n",
       "9       2106HJO0007  Sustitución y adquisición adicional de equipo ...   \n",
       "10      2106HJO0015  Inversión 72 nuevas sucursales del Banco del B...   \n",
       "11      2106HJO0026  Inversión 72 nuevas sucursales del Banco del B...   \n",
       "12      2106HJO0030  Inversión 73 nuevas sucursales del Banco del B...   \n",
       "13      21096210001      Modernización del Libramiento Rincón de Romos   \n",
       "14      2116B000056  Adquisición de Equipo para proyecto de macroin...   \n",
       "15      2150GYR0021  Construcción de cancha de fútbol rápido en el ...   \n",
       "16      2150GYR0036  Ampliación y remodelación de la U.M.F. No. 6 J...   \n",
       "17      2150GYR0059  Remodelación y Ampliación de Guardería Ordinar...   \n",
       "18      2206E000004  Reemplazo de equipos de Aire Acondicionado par...   \n",
       "19      2236H000007  Adquisición de equipamiento para consultorios ...   \n",
       "\n",
       "    id_ramo                              id_entidad_federativa    latitud  \\\n",
       "0         9                                                 01  21.952300   \n",
       "1         7                                                 01   0.000000   \n",
       "2        50                                                 01  21.901375   \n",
       "3         6  01;02;03;04;06;07;10;11;12;13;14;15;16;17;18;1...   0.000000   \n",
       "4         6  01;02;03;05;06;08;10;11;13;14;16;17;18;19;21;2...   0.000000   \n",
       "5         6    01;03;04;05;07;08;09;10;12;13;15;16;17;18;19;20   0.000000   \n",
       "6        50                                     01;03;14;21;26  23.078357   \n",
       "7        50                                                 01  21.901380   \n",
       "8         6       01;02;05;06;07;08;09;10;11;16;19;22;24;25;26   0.000000   \n",
       "9         6  01;02;03;04;05;06;07;08;09;10;11;12;13;14;15;1...   0.000000   \n",
       "10        6                         01;04;07;09;12;20;21;29;30   0.000000   \n",
       "11        6                                        01;11;16;24   0.000000   \n",
       "12        6                         01;08;10;14;15;17;18;21;32   0.000000   \n",
       "13        9                                                 01  22.184938   \n",
       "14       16  01;02;03;04;05;07;09;10;11;13;15;16;17;19;21;2...  19.419444   \n",
       "15       50                                                 01  21.866343   \n",
       "16       50                                                 01  21.955500   \n",
       "17       50                                                 01  21.865860   \n",
       "18        6  01;02;03;07;08;11;12;13;14;15;16;18;19;21;25;2...  17.640067   \n",
       "19       36                                  01;08;09;15;21;24  22.188398   \n",
       "\n",
       "      longitud  monto_inversion_total  ciclo  \\\n",
       "0  -102.352900              906008771   2024   \n",
       "1     0.000000               17813128   2024   \n",
       "2  -102.291674                 478887   2024   \n",
       "3     0.000000              643148483   2024   \n",
       "4     0.000000              483115190   2024   \n",
       "5     0.000000              477747243   2024   \n",
       "6  -109.714003               55378654   2024   \n",
       "7  -102.291670                 485345   2024   \n",
       "8     0.000000              462328905   2024   \n",
       "9     0.000000              270826417   2024   \n",
       "10    0.000000              387124923   2024   \n",
       "11    0.000000              386861268   2024   \n",
       "12    0.000000              391860098   2024   \n",
       "13 -102.295146              607236918   2024   \n",
       "14  -99.145556               16516408   2024   \n",
       "15 -102.292416                3203641   2024   \n",
       "16 -102.338600               74807540   2024   \n",
       "17 -102.291353               10711747   2024   \n",
       "18 -101.558737               58999829   2024   \n",
       "19 -100.981056               24233922   2024   \n",
       "\n",
       "                                       fase  \\\n",
       "0   Calendario Fiscal Concluido / Operación   \n",
       "1   Calendario Fiscal Concluido / Operación   \n",
       "2   Calendario Fiscal Concluido / Operación   \n",
       "3                                   Vigente   \n",
       "4                                   Vigente   \n",
       "5                                   Vigente   \n",
       "6                En Proceso de Modificación   \n",
       "7   Calendario Fiscal Concluido / Operación   \n",
       "8                                   Vigente   \n",
       "9                                   Vigente   \n",
       "10                                  Vigente   \n",
       "11                                  Vigente   \n",
       "12                                  Vigente   \n",
       "13                                Cancelado   \n",
       "14               En Proceso de Modificación   \n",
       "15  Calendario Fiscal Concluido / Operación   \n",
       "16                                  Vigente   \n",
       "17                                  Vigente   \n",
       "18                                  Vigente   \n",
       "19                                  Vigente   \n",
       "\n",
       "                                        desc_ramo  \\\n",
       "0                    Comunicaciones y Transportes   \n",
       "1                                Defensa Nacional   \n",
       "2            Instituto Mexicano del Seguro Social   \n",
       "3                      Hacienda y Crédito Público   \n",
       "4                      Hacienda y Crédito Público   \n",
       "5                      Hacienda y Crédito Público   \n",
       "6            Instituto Mexicano del Seguro Social   \n",
       "7            Instituto Mexicano del Seguro Social   \n",
       "8                      Hacienda y Crédito Público   \n",
       "9                      Hacienda y Crédito Público   \n",
       "10                     Hacienda y Crédito Público   \n",
       "11                     Hacienda y Crédito Público   \n",
       "12                     Hacienda y Crédito Público   \n",
       "13  Infraestructura, Comunicaciones y Transportes   \n",
       "14            Medio Ambiente y Recursos Naturales   \n",
       "15           Instituto Mexicano del Seguro Social   \n",
       "16           Instituto Mexicano del Seguro Social   \n",
       "17           Instituto Mexicano del Seguro Social   \n",
       "18                     Hacienda y Crédito Público   \n",
       "19               Seguridad y Protección Ciudadana   \n",
       "\n",
       "                              desc_entidad_federativa  \\\n",
       "0                                      AGUASCALIENTES   \n",
       "1                                      AGUASCALIENTES   \n",
       "2                                      AGUASCALIENTES   \n",
       "3   AGUASCALIENTES;BAJA CALIFORNIA;BAJA CALIFORNIA...   \n",
       "4   AGUASCALIENTES;BAJA CALIFORNIA;BAJA CALIFORNIA...   \n",
       "5   AGUASCALIENTES;BAJA CALIFORNIA SUR;CAMPECHE;CO...   \n",
       "6   AGUASCALIENTES;BAJA CALIFORNIA SUR;JALISCO;PUE...   \n",
       "7                                      AGUASCALIENTES   \n",
       "8   AGUASCALIENTES;BAJA CALIFORNIA;COAHUILA DE ZAR...   \n",
       "9   AGUASCALIENTES;BAJA CALIFORNIA;BAJA CALIFORNIA...   \n",
       "10  AGUASCALIENTES;CAMPECHE;CHIAPAS;CIUDAD DE MÉXI...   \n",
       "11  AGUASCALIENTES;GUANAJUATO;MICHOACAN;SAN LUIS P...   \n",
       "12  AGUASCALIENTES;CHIHUAHUA;DURANGO;JALISCO;ESTAD...   \n",
       "13                                     AGUASCALIENTES   \n",
       "14  AGUASCALIENTES;BAJA CALIFORNIA;BAJA CALIFORNIA...   \n",
       "15                                     AGUASCALIENTES   \n",
       "16                                     AGUASCALIENTES   \n",
       "17                                     AGUASCALIENTES   \n",
       "18  AGUASCALIENTES;BAJA CALIFORNIA;BAJA CALIFORNIA...   \n",
       "19  AGUASCALIENTES;CHIHUAHUA;CIUDAD DE MÉXICO;ESTA...   \n",
       "\n",
       "                                        tipo_proyecto  \n",
       "0   Proyecto de Inversión de Infraestructura Econó...  \n",
       "1              Programa de Inversión de Mantenimiento  \n",
       "2              Programa de Inversión de Adquisiciones  \n",
       "3   Proyecto de Inversión de Infraestructura Guber...  \n",
       "4   Proyecto de Inversión de Infraestructura Guber...  \n",
       "5   Proyecto de Inversión de Infraestructura Guber...  \n",
       "6                Programa de Estudios de Preinversión  \n",
       "7              Programa de Inversión de Adquisiciones  \n",
       "8   Proyecto de Inversión de Infraestructura Guber...  \n",
       "9              Programa de Inversión de Adquisiciones  \n",
       "10  Proyecto de Inversión de Infraestructura Guber...  \n",
       "11  Proyecto de Inversión de Infraestructura Guber...  \n",
       "12  Proyecto de Inversión de Infraestructura Guber...  \n",
       "13  Proyecto de Inversión de Infraestructura Econó...  \n",
       "14             Programa de Inversión de Adquisiciones  \n",
       "15    Proyecto de Inversión de Infraestructura Social  \n",
       "16    Proyecto de Inversión de Infraestructura Social  \n",
       "17    Proyecto de Inversión de Infraestructura Social  \n",
       "18             Programa de Inversión de Adquisiciones  \n",
       "19             Programa de Inversión de Adquisiciones  "
      ]
     },
     "execution_count": 21,
     "metadata": {},
     "output_type": "execute_result"
    }
   ],
   "source": [
    "df"
   ]
  },
  {
   "cell_type": "markdown",
   "id": "b53812eb-26b6-4d71-91c4-6bc5319eba42",
   "metadata": {},
   "source": [
    "### 05.1 Ahorrandonos unos clicks\n",
    "\n",
    "Ya que tenemos nuestro dataframe, podemos exportarlo a algo más legible y transportable"
   ]
  },
  {
   "cell_type": "code",
   "execution_count": 22,
   "id": "cb99eb0b-8466-40ef-bf07-ddc4151236cb",
   "metadata": {},
   "outputs": [],
   "source": [
    "df.to_csv(\"resultados.tsv\",sep=\"\\t\",index=False)"
   ]
  },
  {
   "cell_type": "markdown",
   "id": "a8e33d74-d38d-40fc-8c15-5d318188b047",
   "metadata": {},
   "source": [
    "## 06 - Entrando al agujero de conejo\n",
    "\n",
    "En el sitio de transparencia presupuestaria puedes consultar más información acerca de cada proyecto\n",
    "\n",
    "El sitio te lleva a la página [https://www.transparenciapresupuestaria.gob.mx/ficha_opa](https://www.transparenciapresupuestaria.gob.mx/ficha_opa)\n",
    "\n",
    "Sin embargo, en dicha página no puedes hacer consultas si no es desde la página anterior (Obra Pública Abierta)\n",
    "\n",
    "Si analizamos nuestro entorno de desarrollo en el navegador, veremos que se hace una llamada a una segunda API\n",
    "\n",
    "Dicha API está albergada en [https://nptp.hacienda.gob.mx/programas/detalle](https://nptp.hacienda.gob.mx/programas/detalle\n",
    "\n",
    "Y espera como único parámetro `id_clave_cartera`"
   ]
  },
  {
   "cell_type": "markdown",
   "id": "2f1d50e7-2de0-4bc9-b12b-943f7eae2c95",
   "metadata": {},
   "source": [
    "### 06.1 Preparando el acceso por lote\n",
    "\n",
    "Ya sea desde nuestro dataframe o desde nuestro objeto JSON, podemos obtener una lista de los valores de `id_clave_cartera`\n",
    "\n",
    "Con dicha lista podemos interrogar la segunda API para obtener información más detallada de cada proyecto\n",
    "\n",
    ">Spoiler, encontraremos más información de la que se muestra en el sitio web!\n",
    "\n",
    "Primero construimos una lista y la llenamos con los valores de `id_clave_cartera`"
   ]
  },
  {
   "cell_type": "code",
   "execution_count": 23,
   "id": "1d245aba-e580-4b29-bcef-998ae81b6e20",
   "metadata": {},
   "outputs": [],
   "source": [
    "id_clave_cartera_list = []\n",
    "for entry in range(page_size):\n",
    "    id_clave_cartera_list.append(retrieved_data[\"results\"][entry][\"id_clave_cartera\"])"
   ]
  },
  {
   "cell_type": "code",
   "execution_count": 24,
   "id": "0a5a67c7-4bd0-4743-85cf-8bfd0d5bad4f",
   "metadata": {},
   "outputs": [
    {
     "data": {
      "text/plain": [
       "['11096210010',\n",
       " '1807HXA0019',\n",
       " '1950GYR0005',\n",
       " '2006HJO0005',\n",
       " '2006HJO0006',\n",
       " '2006HJO0009',\n",
       " '2050GYR0008',\n",
       " '2050GYR0032',\n",
       " '2106HJO0002',\n",
       " '2106HJO0007',\n",
       " '2106HJO0015',\n",
       " '2106HJO0026',\n",
       " '2106HJO0030',\n",
       " '21096210001',\n",
       " '2116B000056',\n",
       " '2150GYR0021',\n",
       " '2150GYR0036',\n",
       " '2150GYR0059',\n",
       " '2206E000004',\n",
       " '2236H000007']"
      ]
     },
     "execution_count": 24,
     "metadata": {},
     "output_type": "execute_result"
    }
   ],
   "source": [
    "id_clave_cartera_list"
   ]
  },
  {
   "cell_type": "markdown",
   "id": "b2794bd9-0a4b-4d13-9486-d7d87e9af0a7",
   "metadata": {},
   "source": [
    "### 06.2 Una prueba rápida\n",
    "\n",
    "Antes de lanzar toda la lista de ids, probemos con solamente un elemento.\n",
    "\n",
    "Haremos lo mismo que en la primera parte, prepararemos un diccionario que contiene los parámetros que le pasaremos a la API"
   ]
  },
  {
   "cell_type": "code",
   "execution_count": 25,
   "id": "810fc528-c799-4b5a-bc6b-b5bf897d38a2",
   "metadata": {},
   "outputs": [],
   "source": [
    "ext_data = {\"id_clave_cartera\" : \"11096210010\"}"
   ]
  },
  {
   "cell_type": "markdown",
   "id": "6bc6fa8b-d5c4-40ca-83f6-887fb8805cd4",
   "metadata": {},
   "source": [
    "#### 06.2.1 Igualmente haremos una limpieza de datos"
   ]
  },
  {
   "cell_type": "code",
   "execution_count": 26,
   "id": "17438a71-e931-446e-996a-5e2a2468b7d4",
   "metadata": {},
   "outputs": [],
   "source": [
    "remove_keys = []\n",
    "for key in ext_data.keys():\n",
    "    if (ext_data[key] == \"\"):\n",
    "        remove_keys.append(key)\n",
    "for key in remove_keys:\n",
    "    del ext_data[key]\n",
    "if(len(ext_data.keys())!=0):\n",
    "    ext_request = requests.get(\"https://nptp.hacienda.gob.mx/programas/detalle\",params=ext_data)"
   ]
  },
  {
   "cell_type": "code",
   "execution_count": 27,
   "id": "7aa54c5c-6c0b-4a59-8748-8442c96991a7",
   "metadata": {},
   "outputs": [
    {
     "name": "stdout",
     "output_type": "stream",
     "text": [
      "https://nptp.hacienda.gob.mx/programas/detalle?id_clave_cartera=11096210010\n"
     ]
    }
   ],
   "source": [
    "print(ext_request.url)"
   ]
  },
  {
   "cell_type": "markdown",
   "id": "8203bd0d-6d05-4bee-aad1-4b74d6a0a56c",
   "metadata": {},
   "source": [
    "#### 06.2.2 Status code"
   ]
  },
  {
   "cell_type": "code",
   "execution_count": 28,
   "id": "a0b14d7f-eaeb-411d-a6fa-23ce6244c25b",
   "metadata": {},
   "outputs": [
    {
     "name": "stdout",
     "output_type": "stream",
     "text": [
      "Solicitud efectuada exitosamente\n"
     ]
    }
   ],
   "source": [
    "if (ext_request.status_code == requests.codes.ok):\n",
    "    print(\"Solicitud efectuada exitosamente\")\n",
    "else:\n",
    "    print(\"Error en la solicitud\"+str(ext_request.status_code))"
   ]
  },
  {
   "cell_type": "code",
   "execution_count": 29,
   "id": "803a19a4-fa12-4a92-9e88-0362eaaef435",
   "metadata": {},
   "outputs": [],
   "source": [
    "if (ext_request.status_code == requests.codes.ok):\n",
    "    retrieved_details = ext_request.json()"
   ]
  },
  {
   "cell_type": "markdown",
   "id": "51dfa935-02ce-46b3-b890-d9379831230b",
   "metadata": {},
   "source": [
    "#### 06.2.3 Exploración de los datos\n",
    "\n",
    "En este punto ya es más sencillo ir directo sobre los datos\n",
    "\n",
    "Vamos a analizar el objeto recibido y pensemos en formas de transformar la información recibida en formatos más manejables\n",
    "\n",
    "Pensemos tambien en cuales serían los siguientes pasos para la automatización de extracción de información, tanto de la primera como de la segunda API"
   ]
  },
  {
   "cell_type": "code",
   "execution_count": 30,
   "id": "d3b84196-a149-4bd3-bf59-d74c1f43cfe2",
   "metadata": {},
   "outputs": [
    {
     "data": {
      "text/plain": [
       "[{'id_ppi': 30283,\n",
       "  'id_clave_cartera': '11096210010',\n",
       "  'desc_ppi': 'Tercer Anillo, Primera Etapa.',\n",
       "  'fase': 'Calendario Fiscal Concluido / Operación',\n",
       "  'id_tipo_ppi': 1,\n",
       "  'desc_tipo_ppi': 'Proyecto de Inversión de Infraestructura Económica',\n",
       "  'detalle_ppi': 'El Tercer Anillo Periférico en su parte Poniente  constará de un tramo nuevo que alojará 2 calzadas, una para cada sentido de circulación con 3 carriles de 3.5 m de ancho a lo largo de 12.85 km, además de 3 PSV, para dar continuidad al flujo vehicular.',\n",
       "  'latitud': 21.9523,\n",
       "  'longitud': -102.3529,\n",
       "  'nombre_admin': 'Oscar Raúl',\n",
       "  'apellido_paterno_admin': 'Callejo',\n",
       "  'apellido_materno_admin': 'Silva',\n",
       "  'cargo_admin': 'Director General de Carreteras',\n",
       "  'mail_admin': 'ocallejo@sct.gob.mx',\n",
       "  'telefono_admin': None,\n",
       "  'beneficios_esperados': 'Dar continuidad al flujo vehicular por el Tercer Anillo de oriente a poniente y note a sur, aumentar las velocidades de operación, reducir los tiempos de recorrido, reducir los costos de operación de los diferentes tipos de vehículos.',\n",
       "  'meta_unidad_medida': 'Construcción de 12.85 km del Tercer Anillo con 3 carriles de circulación en cada sentido con un ancho de 3.5 m cada uno y tres PSV',\n",
       "  'monto_inversion_total': 906008771,\n",
       "  'anios_operacion_total': 0,\n",
       "  'monto_operacion_total': 536434166,\n",
       "  'otros_gastos': 0,\n",
       "  'monto_total': 1528272404,\n",
       "  'fecha_inicio_calendario_fiscal': '01/08/2011',\n",
       "  'fecha_fin_calendario_fiscal': '31/12/2016',\n",
       "  'anio_inversion': '2024',\n",
       "  'ciclo': 2024,\n",
       "  'total_contratos_ejecucion': 0,\n",
       "  'url_contratos': '/programas/jsp/programas/tablaContratosEjecucion.jsp?ciclo=2024&cveppi=11096210010',\n",
       "  'ent_federativa': [{'id_entidad_federativa': 1,\n",
       "    'entidad_federativa': 'AGUASCALIENTES',\n",
       "    'localizacion': 'Aguascalientes.',\n",
       "    'municipio': None,\n",
       "    'localidad': None}],\n",
       "  'pp': [{'id_modalidad': 'K',\n",
       "    'id_pp': '003',\n",
       "    'desc_pp': 'Proyectos de construcción de carreteras',\n",
       "    'monto_aprobado': 211100015.0,\n",
       "    'monto_modificado': 10014541.0,\n",
       "    'monto_ejercido': 392748875.0,\n",
       "    'url_pp': 'https://nptp.hacienda.gob.mx/programas/jsp/programas/fichaPrograma.jsp?id=09K003'}],\n",
       "  'ur': [{'id_ramo': 9,\n",
       "    'desc_ramo': 'Comunicaciones y Transportes',\n",
       "    'id_ur': '621',\n",
       "    'desc_ur': 'Centro SICT Aguascalientes',\n",
       "    'asignacion_ppef': 0,\n",
       "    'asignacion_original': None,\n",
       "    'monto_aprobado': 211100015,\n",
       "    'monto_modificado': 10014541,\n",
       "    'monto_ejercido': 392748875,\n",
       "    'avance_fisico': 100.0,\n",
       "    'es_pef': '0',\n",
       "    'documento': {'id_foto_inicial': None,\n",
       "     'url_foto_inicial': None,\n",
       "     'id_foto_durante': None,\n",
       "     'url_foto_durante': None,\n",
       "     'id_foto_despues': None,\n",
       "     'url_foto_despues': None,\n",
       "     'documentos': [{'id_documento': 74566,\n",
       "       'nombre_documento': 'ACB Tercer Anillo 1a Etapa.zip',\n",
       "       'id_tipo_doc': 1,\n",
       "       'fecha_publicacion_documento': '10/08/2011',\n",
       "       'fecha_actualizacion_documento': '10/08/2011',\n",
       "       'version': 1,\n",
       "       'url_documento': 'https://www.mst.hacienda.gob.mx/SCI/public-rest/cartera/consulta/63324E70/513239755932783161575276637A63304E545932'}]},\n",
       "    'calendario': [{'anio_inversion': '2011',\n",
       "      'monto_propio': 0,\n",
       "      'monto_inversion_estatal': 0,\n",
       "      'monto_inversion_municipal': 0,\n",
       "      'monto_inversion_privada': 0,\n",
       "      'monto_inversion_fideicomiso': 0,\n",
       "      'monto_asigautact': 84949706,\n",
       "      'monto_otros': 0},\n",
       "     {'anio_inversion': '2012',\n",
       "      'monto_propio': 0,\n",
       "      'monto_inversion_estatal': 0,\n",
       "      'monto_inversion_municipal': 0,\n",
       "      'monto_inversion_privada': 0,\n",
       "      'monto_inversion_fideicomiso': 0,\n",
       "      'monto_asigautact': 128647665,\n",
       "      'monto_otros': 0},\n",
       "     {'anio_inversion': '2013',\n",
       "      'monto_propio': 0,\n",
       "      'monto_inversion_estatal': 0,\n",
       "      'monto_inversion_municipal': 0,\n",
       "      'monto_inversion_privada': 0,\n",
       "      'monto_inversion_fideicomiso': 0,\n",
       "      'monto_asigautact': 113267436,\n",
       "      'monto_otros': 0},\n",
       "     {'anio_inversion': '2014',\n",
       "      'monto_propio': 0,\n",
       "      'monto_inversion_estatal': 0,\n",
       "      'monto_inversion_municipal': 0,\n",
       "      'monto_inversion_privada': 0,\n",
       "      'monto_inversion_fideicomiso': 0,\n",
       "      'monto_asigautact': 18167873,\n",
       "      'monto_otros': 0},\n",
       "     {'anio_inversion': '2015',\n",
       "      'monto_propio': 0,\n",
       "      'monto_inversion_estatal': 0,\n",
       "      'monto_inversion_municipal': 0,\n",
       "      'monto_inversion_privada': 0,\n",
       "      'monto_inversion_fideicomiso': 0,\n",
       "      'monto_asigautact': 81014741,\n",
       "      'monto_otros': 0},\n",
       "     {'anio_inversion': '2016',\n",
       "      'monto_propio': 0,\n",
       "      'monto_inversion_estatal': 0,\n",
       "      'monto_inversion_municipal': 0,\n",
       "      'monto_inversion_privada': 0,\n",
       "      'monto_inversion_fideicomiso': 0,\n",
       "      'monto_asigautact': 479961350,\n",
       "      'monto_otros': 0}]}],\n",
       "  'version': '20210304'}]"
      ]
     },
     "execution_count": 30,
     "metadata": {},
     "output_type": "execute_result"
    }
   ],
   "source": [
    "retrieved_details"
   ]
  },
  {
   "cell_type": "code",
   "execution_count": 31,
   "id": "a23dbc78-721b-4ddd-86a4-2ea65a742ab5",
   "metadata": {},
   "outputs": [
    {
     "name": "stdout",
     "output_type": "stream",
     "text": [
      "id_ppi\t<class 'int'>\n",
      "id_clave_cartera\t<class 'str'>\n",
      "desc_ppi\t<class 'str'>\n",
      "fase\t<class 'str'>\n",
      "id_tipo_ppi\t<class 'int'>\n",
      "desc_tipo_ppi\t<class 'str'>\n",
      "detalle_ppi\t<class 'str'>\n",
      "latitud\t<class 'float'>\n",
      "longitud\t<class 'float'>\n",
      "nombre_admin\t<class 'str'>\n",
      "apellido_paterno_admin\t<class 'str'>\n",
      "apellido_materno_admin\t<class 'str'>\n",
      "cargo_admin\t<class 'str'>\n",
      "mail_admin\t<class 'str'>\n",
      "telefono_admin\t<class 'NoneType'>\n",
      "beneficios_esperados\t<class 'str'>\n",
      "meta_unidad_medida\t<class 'str'>\n",
      "monto_inversion_total\t<class 'int'>\n",
      "anios_operacion_total\t<class 'int'>\n",
      "monto_operacion_total\t<class 'int'>\n",
      "otros_gastos\t<class 'int'>\n",
      "monto_total\t<class 'int'>\n",
      "fecha_inicio_calendario_fiscal\t<class 'str'>\n",
      "fecha_fin_calendario_fiscal\t<class 'str'>\n",
      "anio_inversion\t<class 'str'>\n",
      "ciclo\t<class 'int'>\n",
      "total_contratos_ejecucion\t<class 'int'>\n",
      "url_contratos\t<class 'str'>\n",
      "ent_federativa\t<class 'list'>\n",
      "pp\t<class 'list'>\n",
      "ur\t<class 'list'>\n",
      "version\t<class 'str'>\n"
     ]
    }
   ],
   "source": [
    "for key in retrieved_details[0].keys():\n",
    "    print(key+\"\\t\"+str(type(retrieved_details[0][key])))"
   ]
  },
  {
   "cell_type": "code",
   "execution_count": 32,
   "id": "40f9329d-77bc-43fa-ba33-43e3e4c07d44",
   "metadata": {},
   "outputs": [],
   "source": [
    "useful_keys = []"
   ]
  }
 ],
 "metadata": {
  "kernelspec": {
   "display_name": "Python 3 (ipykernel)",
   "language": "python",
   "name": "python3"
  },
  "language_info": {
   "codemirror_mode": {
    "name": "ipython",
    "version": 3
   },
   "file_extension": ".py",
   "mimetype": "text/x-python",
   "name": "python",
   "nbconvert_exporter": "python",
   "pygments_lexer": "ipython3",
   "version": "3.11.10"
  }
 },
 "nbformat": 4,
 "nbformat_minor": 5
}
