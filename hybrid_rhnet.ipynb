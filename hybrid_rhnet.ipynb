{
 "cells": [
  {
   "cell_type": "markdown",
   "id": "38a06b44-53c5-44d4-8803-9ca99da76533",
   "metadata": {},
   "source": [
    "## 00 - Preparamos el entorno cargando las bibliotecas necesarias\n",
    "En caso de que dichas bibliotecas no estén instaladas, es necesario ejecutar el siguiente bloque de código\n",
    "```\n",
    "! pip install --upgrade requests selenium BeautifulSoup pandas\n",
    "```"
   ]
  },
  {
   "cell_type": "code",
   "execution_count": null,
   "id": "7dbe59d7-16be-4bb8-9c41-641054df544d",
   "metadata": {},
   "outputs": [],
   "source": [
    "import requests\n",
    "import pandas as pd\n",
    "from bs4 import BeautifulSoup\n",
    "from selenium import webdriver\n",
    "from selenium.webdriver.common.by import By\n",
    "from selenium.webdriver.support.ui import Select"
   ]
  },
  {
   "cell_type": "markdown",
   "id": "cb8634c7-9dae-457d-88a6-5a270ac37433",
   "metadata": {},
   "source": [
    "## 01 - Por qué usaremos un navegador emulado?\n",
    "\n",
    "A diferencia de lo que hicimos con [transparenciapresupuestaria.gob.mx](https://www.transparenciapresupuestaria.gob.mx/) usando requests, la información que obtendremos de [rhnet.gob.mx](https://www.rhnet.gob.mx) requiere una aproximación muy diferente\n",
    "\n",
    "rhnet.gob.mx cuenta con una API, sin embargo requiere de información adicional que no es tan fácil de automatizar (spoiler: si es ;) )"
   ]
  },
  {
   "cell_type": "markdown",
   "id": "04b1c720-b11a-4af6-a98a-9e9129ea80aa",
   "metadata": {},
   "source": [
    "### 01.0.1 Espacio para mostrar el uso fallido de la API de rhnet.gob.mx\n",
    "\n",
    "En la demostración vemos que en efecto hay una llamada a la API de RHNet a través de la dirección `https://www.rhnet.gob.mx/servlet/CheckSecurity/JSP/mss_g1/mss_g1_organigrama_pos1_xls.jsp`, no obstante, no podemos usar `requests` o `curl` ya que el **header** que la api requiere para su buen funcionamiento incluye cookies, un referente, y un certificado.\n",
    "\n",
    "Cómo podemos obtener de forma automática dichos datos?"
   ]
  },
  {
   "cell_type": "markdown",
   "id": "b19d64ad-2079-4fe8-9129-e8b36b9971b3",
   "metadata": {},
   "source": [
    "### 01.1 - Opciones de nuestro navegador emulado\n",
    "\n",
    "En la siguiente celda crearemos un objeto llamado `options` que contiene argumentos *invisibles* que usamos de forma cotidiana en nuestro navegador.\n",
    "\n",
    "Las opciones que le vamos a pasar al webdriver de chrome garantizan que podamos automatizar el código sin tener que abrir un navegador cada vez.\n",
    "\n",
    "Por qué crees que el argumento `--headless` está desactivado?"
   ]
  },
  {
   "cell_type": "code",
   "execution_count": null,
   "id": "4ab01e97-4b2f-4542-970d-ac2e21a73ce3",
   "metadata": {},
   "outputs": [],
   "source": [
    "options = webdriver.ChromeOptions()\n",
    "options.add_argument(\"--no-sandbox\")\n",
    "options.add_argument(\"--disable-dev-shm-usage\")\n",
    "options.add_argument(\"--disable-gpu\")\n",
    "options.add_argument(\"--disable-extensions\")\n",
    "#options.add_argument(\"--headless\")"
   ]
  },
  {
   "cell_type": "markdown",
   "id": "51cda2c2-21bf-4e8b-b390-bf76cbeed246",
   "metadata": {},
   "source": [
    "### 01.2 - Inicializando el navegador emulado\n",
    "\n",
    "Ya que construimos la serie de argumentos que nuestro navegador emulado requiere, podemos inicializarlo ejecutando el código de la siguiente celda"
   ]
  },
  {
   "cell_type": "code",
   "execution_count": null,
   "id": "cf9e0623-6572-450e-b01c-28540d059f83",
   "metadata": {},
   "outputs": [],
   "source": [
    "browser = webdriver.Chrome(options=options)"
   ]
  },
  {
   "cell_type": "markdown",
   "id": "94dcc19f-2219-4903-b397-e4771b00aa7d",
   "metadata": {},
   "source": [
    "### 01.3 - Abrimos la página web de RHNet"
   ]
  },
  {
   "cell_type": "code",
   "execution_count": null,
   "id": "29f1bb18-b4ae-4ea9-999f-e6b2ac0943d3",
   "metadata": {},
   "outputs": [],
   "source": [
    "browser.get(\"https://www.rhnet.gob.mx/servlet/CheckSecurity/JSP/mss_g1/mss_g1_organigrama_pos_filtro.jsp\")"
   ]
  },
  {
   "cell_type": "markdown",
   "id": "907dbc11-ca58-4574-bb91-8c3d02c9be51",
   "metadata": {},
   "source": [
    "## 02 - Elementos emergentes, y como atraparlos en nuestro navegador emulado\n",
    "\n",
    "La primera dificultad que encontramos en la automatización es la detección de elementos emergentes\n",
    "\n",
    "Cada sitio web es diferente, y no hay un `class` universal para detectar los elementos emergentes\n",
    "\n",
    "Podemos usar XPATH para seleccionar el boton de cerrar en el elemento emergente y hacer click en dicho boton para actualizar el DOM a la página que queremos visitar"
   ]
  },
  {
   "cell_type": "code",
   "execution_count": null,
   "id": "3913d885-67ec-4da4-9b91-892f31233111",
   "metadata": {},
   "outputs": [],
   "source": [
    "popup_link = browser.find_element(By.XPATH,\"/html/body/div[2]/div/div[1]/button\")\n",
    "popup_link.click();"
   ]
  },
  {
   "cell_type": "markdown",
   "id": "3a6a7e27-e097-4274-a81b-391183927b97",
   "metadata": {},
   "source": [
    "## 03 - Cambiando de página, un click a la vez\n",
    "\n",
    "Una vez que nos deshicimos del elemento emergente, podemos pasar a la sección de búsqueda\n",
    "\n",
    "A diferencia del elemento emergente, el link de búsqueda si tiene un `id` específico, por lo que facilmente podemos hacer click en el link ejecutando el siguiente código"
   ]
  },
  {
   "cell_type": "code",
   "execution_count": null,
   "id": "51972b5f-9f01-4730-87bd-33012f80bd4e",
   "metadata": {},
   "outputs": [],
   "source": [
    "search_link = browser.find_element(by=\"id\",value=\"linkEOR\")"
   ]
  },
  {
   "cell_type": "code",
   "execution_count": null,
   "id": "c59b6f77-dc60-4542-a60e-e4f73b515879",
   "metadata": {},
   "outputs": [],
   "source": [
    "search_link.click();"
   ]
  },
  {
   "cell_type": "markdown",
   "id": "49cb51ef-0585-417f-a6e8-7d9d1040ccb9",
   "metadata": {},
   "source": [
    "## 04 - Por qué usaremos un navegador emulado? Si, de nuevo\n",
    "\n",
    "Con selenium podemos hacer automatización de procesos de una forma elegante, si acaso rebuscada. En la siguiente sesión se cubrirá un uso más detallado de selenium\n",
    "\n",
    "Para esta sesión, en realidad estamos usando selenium para obtener los cookies que ocupamos para *engañar* a la API de RHNet y hacerle creer que es un humano quien está tratando de obtener información de su portal"
   ]
  },
  {
   "cell_type": "code",
   "execution_count": null,
   "id": "6f1cb150-6265-454a-92a9-055983c937f8",
   "metadata": {},
   "outputs": [],
   "source": [
    "cookie_list = browser.get_cookies()"
   ]
  },
  {
   "cell_type": "markdown",
   "id": "b47494ae-f776-4161-a8b7-39510c559a6c",
   "metadata": {},
   "source": [
    "### 04.1 - Explorando las cookies obtenidas\n",
    "\n",
    "Selenium nos entrega un diccionario de cookies, indicando el nombre y el valor de cada cookie."
   ]
  },
  {
   "cell_type": "code",
   "execution_count": null,
   "id": "8d7ff545-379f-4fa5-818c-0f0e18e054a2",
   "metadata": {},
   "outputs": [],
   "source": [
    "cookie_list"
   ]
  },
  {
   "cell_type": "markdown",
   "id": "41d2af15-20aa-4d71-972c-be41ba08023c",
   "metadata": {},
   "source": [
    "### 04.2 - Construyendo el encabezado para la API, una cookie a la vez\n",
    "\n",
    "Al ejecutar el siguiente código, podemos transformar el objeto `cookie_list` en un `string` que podemos incluir en el encabezado para la solicitud en la API"
   ]
  },
  {
   "cell_type": "code",
   "execution_count": null,
   "id": "7a50d4b6-b136-45f1-87a8-5e2e5ce7beac",
   "metadata": {},
   "outputs": [],
   "source": [
    "cookie_str = \"\\nCookie: \"\n",
    "for i in range(len(cookie_list)):\n",
    "    cookie_name = cookie_list[i][\"name\"]\n",
    "    cookie_value = cookie_list[i][\"value\"]\n",
    "    cookie_str += cookie_name +\"=\"+cookie_value+\"; \""
   ]
  },
  {
   "cell_type": "code",
   "execution_count": null,
   "id": "0e513a6d-d746-4213-8126-329c3961e685",
   "metadata": {},
   "outputs": [],
   "source": [
    "print(cookie_str)"
   ]
  },
  {
   "cell_type": "markdown",
   "id": "7f359fd8-0005-4eb8-b153-626c29b32d20",
   "metadata": {},
   "source": [
    "## 05 - Estableciendo una conexión segura\n",
    "\n",
    "El diseño de la API de RHNet es interesante ya que sigue buenas prácticas de seguridad, autenticación y geolocalización.\n",
    ">El protocólo de transferencia de datos deja mucho que desear, no se puede tener todo en la vida\n",
    "\n",
    "Antes de realizar cualquier llamada, necesitamos obtener un certificado de seguridad que garantice la seguridad de la conexión\n",
    ">Cada página web ***segura*** hace uso de certificados que protegen la transparencia de los datos entre el servidor y el cliente, pero proteje de intermediarios externos.\n",
    "\n",
    "Usaremos un programa llamado [OpenSSL](https://www.openssl.org/) el cual nos permite obetener y autenticar certificados\n",
    "\n",
    ">Sólo debes ejecutar una de las siguientes celdas, elige la correspondiente a tu sistema operativo\n",
    "\n",
    ">Es importante que en caso de utilizar windows, ajustes la ruta del programa openssl.exe"
   ]
  },
  {
   "cell_type": "code",
   "execution_count": null,
   "id": "2ceddc73-4966-4aca-ab6b-b2628856f1a9",
   "metadata": {},
   "outputs": [],
   "source": [
    "# Unix/Linux/Mac\n",
    "! openssl s_client -showcerts -connect www.rhnet.gob.mx:443 </dev/null 2>/dev/null | openssl x509 -outform PEM > certificado.pem"
   ]
  },
  {
   "cell_type": "code",
   "execution_count": null,
   "id": "53d2755c-31ee-4393-a95c-4c037a5f18db",
   "metadata": {},
   "outputs": [],
   "source": [
    "# Windows\n",
    "! openssl.exe s_client -showcerts -connect www.rhnet.gob.mx:443 < nul 2> nul | openssl.exe x509 -outform PEM > certificado.pem"
   ]
  },
  {
   "cell_type": "markdown",
   "id": "bb7b564f-4067-444a-b6cd-6f9aa5f871e1",
   "metadata": {},
   "source": [
    "## 06 - Construyendo el encabezado\n",
    "\n",
    "Ya que la primera parte del encabezado es esencialmente fija, podemos usar una [plantilla](headers.template) y sobre dicha plantilla agregar las cookies\n",
    "\n",
    "Al ejecutar el siguiente código, crearemos un nuevo archivo llamado [headers](headers), que contiene la primera parte de la plantilla, y agregamos la sección correspondiente a las cookies"
   ]
  },
  {
   "cell_type": "code",
   "execution_count": null,
   "id": "01a0866a-7b09-4419-b8cf-bc9391f46bcb",
   "metadata": {},
   "outputs": [],
   "source": [
    "with open('headers.template','r') as template, open('headers','w') as target: \n",
    "    for line in template:\n",
    "        target.write(line)\n",
    "with open(\"headers\", \"a\") as target:\n",
    "    target.write(cookie_str)"
   ]
  },
  {
   "cell_type": "markdown",
   "id": "1d6ee63e-92a7-4367-b862-1013b1660e7a",
   "metadata": {},
   "source": [
    "## 07 - Preparando la solicitud\n",
    "\n",
    "En la demostración del sitio web de RHNet, vimos que la API requiere parámetros específicos, con el siguiente código podemos guardar dichos parámetros en un archivo de texto plano"
   ]
  },
  {
   "cell_type": "code",
   "execution_count": null,
   "id": "8d6bece3-c329-4574-8314-309ee48a1a48",
   "metadata": {},
   "outputs": [],
   "source": [
    "data = \"ID_ORGANIZATION=02&ORGANO=todos&FEC=14-10-2024\"\n",
    "with open(\"data\", \"w\") as target:\n",
    "    target.write(data)"
   ]
  },
  {
   "cell_type": "markdown",
   "id": "44c86801-1fcb-48b3-b6a3-c75aa1bc1259",
   "metadata": {},
   "source": [
    "## 08 - Drumroll, la solicitud\n",
    "\n",
    "... usando curl en vez de requests\n",
    "\n",
    "Requests requiere dos tipos de certificado para la autenticación de la API de RHNet (puntos extra por la seguridad), no obstante, `curl`, solamente requiere un certificado, el que obtuvimos con `openssl`\n",
    "\n",
    "Ya construimos el encabezado, ya tenemos el certificado y ya tenemos la data para la API.\n",
    "\n",
    "Con el siguiente código obtendremos la información de la API de RHNet\n",
    "\n",
    ">Puedes identificar algo raro en la información obtenida?\n",
    "\n",
    ">Qué red flag tiene la API de RHNet en cuanto a transferencia de información?"
   ]
  },
  {
   "cell_type": "code",
   "execution_count": null,
   "id": "a476761d-6451-4e0b-a255-3ce7491dc6ad",
   "metadata": {},
   "outputs": [],
   "source": [
    "! curl --request POST --cacert certificado.pem --header @headers --data @data \"https://www.rhnet.gob.mx/servlet/CheckSecurity/JSP/mss_g1/mss_g1_organigrama_pos1_xls.jsp\" > results.html 2> curl.err"
   ]
  },
  {
   "cell_type": "markdown",
   "id": "52b614b3-5eb4-4277-9b3f-2e5ac337f218",
   "metadata": {},
   "source": [
    "## 09 - Con ***Ñ*** porque estamos en México\n",
    "\n",
    "> Qué pasa si haces doble click en el documento [results.html](results.html) que se generó con curl?\n",
    "\n",
    "> Qué pasa si intentas cargarlo a beautifulsoup?"
   ]
  },
  {
   "cell_type": "code",
   "execution_count": null,
   "id": "d7c4c58f-0acf-4481-ab0b-79648292cd20",
   "metadata": {},
   "outputs": [],
   "source": [
    "with open(\"results.html\") as fp:\n",
    "    soup = BeautifulSoup(fp, 'html.parser')"
   ]
  },
  {
   "cell_type": "markdown",
   "id": "36f74ca4-e9a5-4157-b716-4d2a13474f2b",
   "metadata": {},
   "source": [
    "### 09.1 de UTF y otras [codificaciones](https://es.wikipedia.org/wiki/Codificaci%C3%B3n_de_caracteres)\n",
    "\n",
    "Para bien y para mal, la API de RHNet manda los resultados en una codificación que beautifulsoup no entiende, por lo anterior, debemos cambiar la codificación del documento html a algo más sencillo, [UTF-8](https://es.wikipedia.org/wiki/UTF-8)\n",
    "\n",
    "Con el siguiente código crearemos un nuevo documento html con codificación UTF-8\n",
    "\n",
    "https://es.wikipedia.org/wiki/UTF-8\n",
    "\n",
    ">Sólo debes ejecutar una de las siguientes celdas, elige la correspondiente a tu sistema operativo\n",
    "\n",
    ">Es importante que en caso de utilizar windows, ajustes la ruta del programa iconv.exe"
   ]
  },
  {
   "cell_type": "code",
   "execution_count": null,
   "id": "47780aab-7908-4dd6-9494-d49bca9ad92b",
   "metadata": {},
   "outputs": [],
   "source": [
    "# Unix/Linux/Mac\n",
    "! iconv -f iso-8859-1 -t utf-8 -o results.clean.html results.html"
   ]
  },
  {
   "cell_type": "code",
   "execution_count": null,
   "id": "8232d042-62fd-4ca9-988c-11236b0d9458",
   "metadata": {},
   "outputs": [],
   "source": [
    "# windows\n",
    "! iconv.exe -f iso-8859-1 -t utf-8 -o results.clean.html results.html"
   ]
  },
  {
   "cell_type": "markdown",
   "id": "ea853d34-8f39-42ac-9a44-263a37d549c3",
   "metadata": {},
   "source": [
    "## 10 - Parseando el resultado con bs4\n",
    "\n",
    "Ya que tenemos nuestro documento en UTF-8 podemos leerlo con beautifulsoup y ahora si podemos hacer manejo de datos para obtener una tabla más manejable"
   ]
  },
  {
   "cell_type": "code",
   "execution_count": null,
   "id": "f29c4320-fc23-4be6-a8f1-a3d6429f48c1",
   "metadata": {},
   "outputs": [],
   "source": [
    "with open(\"results.clean.html\") as fp:\n",
    "    soup = BeautifulSoup(fp, 'html.parser')"
   ]
  },
  {
   "cell_type": "markdown",
   "id": "fcf0dcc3-c7f6-4fc6-a845-fa2ef89a7025",
   "metadata": {},
   "source": [
    "### 10.1 - Tablas dentro de divs, qué buscar y donde\n",
    "\n",
    "Una vez que exploramos el contenido de nuestro elemento `soup`, podemos ver que hay cierta estructura.\n",
    "\n",
    "Las tablas que nos interesan están dentro de elementos genéricos de tipo `<div>`, los cuales tienen `id`s específicos\n",
    "\n",
    "Podemos pasarle a bs4 dichos `id`s y continuar con la extracción de datos"
   ]
  },
  {
   "cell_type": "code",
   "execution_count": null,
   "id": "32f2a5bd-cb48-4eeb-a78d-dc22f0f0ecb4",
   "metadata": {},
   "outputs": [],
   "source": [
    "tipo_personal_table = soup.find('div', id='ResTipoPersonal')\n",
    "car_ocupacion_table = soup.find('div', id='ResCarOcu')\n",
    "tipo_funcion_table  = soup.find('div', id='ResTipoFun')\n",
    "puestos_table       = soup.find('div', id='RepPuestos')"
   ]
  },
  {
   "cell_type": "markdown",
   "id": "118b9e30-f4aa-4b4a-afd3-b4e2bb3aad1f",
   "metadata": {},
   "source": [
    "### 10.2 Resumen de tipo de personal\n",
    "\n",
    "Con el siguiente código podemos obtener una lista que contiene diccionarios anidados con la información correspondiente al tipo de personal"
   ]
  },
  {
   "cell_type": "code",
   "execution_count": null,
   "id": "ffdd3d10-cb08-4965-9bfd-e797e81530f0",
   "metadata": {},
   "outputs": [],
   "source": [
    "tipo_personal_list = []\n",
    "for row in range(2,len(tipo_personal_table.find_all(\"tr\"))-1):\n",
    "    col_dict = {}\n",
    "    cols    = tipo_personal_table.find_all(\"tr\")[row].find_all(\"td\")\n",
    "    tipo    = cols[0].text.rstrip(' ').lstrip(' ')\n",
    "    plazas  = cols[1].text.rstrip(' ').lstrip(' ')\n",
    "    porcent = cols[2].text.rstrip(' ').lstrip(' ')\n",
    "    col_dict[\"tipo\"]    = tipo\n",
    "    col_dict[\"plazas\"]  = plazas\n",
    "    col_dict[\"porcent\"] = porcent\n",
    "    tipo_personal_list.append(col_dict)"
   ]
  },
  {
   "cell_type": "markdown",
   "id": "a8e46e2d-7a66-4c9a-a92c-d44eef82504c",
   "metadata": {},
   "source": [
    "#### 10.2.1 Y podemos convertir dicha lista en un dataframe de pandas"
   ]
  },
  {
   "cell_type": "code",
   "execution_count": null,
   "id": "730dd94a-c3b4-4791-a5c3-34d452038580",
   "metadata": {},
   "outputs": [],
   "source": [
    "tipo_personal_df = pd.DataFrame.from_records(tipo_personal_list)"
   ]
  },
  {
   "cell_type": "code",
   "execution_count": null,
   "id": "53d86821-ed8a-42d7-a8d9-367797d031ec",
   "metadata": {},
   "outputs": [],
   "source": [
    "tipo_personal_df"
   ]
  },
  {
   "cell_type": "markdown",
   "id": "f7ad81a0-2f43-4ac2-a8b9-89b1f2933d76",
   "metadata": {},
   "source": [
    "### 10.3 Resumen de característica ocupacional\n",
    "\n",
    "Realizamos el mismo procedimiento con la tabla de características ocupacionales"
   ]
  },
  {
   "cell_type": "code",
   "execution_count": null,
   "id": "6335f6d0-c0ab-4e6d-a08a-7bde7bb64dbe",
   "metadata": {},
   "outputs": [],
   "source": [
    "car_ocupacion_list = []\n",
    "for row in range(2,len(car_ocupacion_table.find_all(\"tr\"))-1):\n",
    "    col_dict = {}\n",
    "    cols    = car_ocupacion_table.find_all(\"tr\")[row].find_all(\"td\")\n",
    "    caract  = cols[0].text.rstrip(' ').lstrip(' ')\n",
    "    plazas  = cols[1].text.rstrip(' ').lstrip(' ')\n",
    "    porcent = cols[2].text.rstrip(' ').lstrip(' ')\n",
    "    col_dict[\"caracteristica\"] = caract\n",
    "    col_dict[\"plazas\"]  = plazas\n",
    "    col_dict[\"porcent\"] = porcent\n",
    "    car_ocupacion_list.append(col_dict)"
   ]
  },
  {
   "cell_type": "markdown",
   "id": "3162aff9-503e-4590-90d0-fefdef426194",
   "metadata": {},
   "source": [
    "#### 10.3.1 Lo pasamos a un dataframe"
   ]
  },
  {
   "cell_type": "code",
   "execution_count": null,
   "id": "5f5870ac-ee47-4017-95f8-8c4e67d40881",
   "metadata": {},
   "outputs": [],
   "source": [
    "car_ocupacion_df = pd.DataFrame.from_records(car_ocupacion_list)"
   ]
  },
  {
   "cell_type": "code",
   "execution_count": null,
   "id": "a2f684c3-20ac-4364-9cbe-691074b7629d",
   "metadata": {},
   "outputs": [],
   "source": [
    "car_ocupacion_df"
   ]
  },
  {
   "cell_type": "markdown",
   "id": "3b3349de-9068-42d8-9955-ae412ee7ee56",
   "metadata": {},
   "source": [
    "### 10.4 Resumen de tipo de funciones\n",
    "\n",
    "Realizamos el mismo procedimiento con la tabla de tipo de funciones"
   ]
  },
  {
   "cell_type": "code",
   "execution_count": null,
   "id": "df274970-a1c9-4be2-8b53-b284f6dfb22a",
   "metadata": {},
   "outputs": [],
   "source": [
    "tipo_funcion_list = []\n",
    "for row in range(2,len(tipo_funcion_table.find_all(\"tr\"))-2):\n",
    "    col_dict = {}\n",
    "    cols    = tipo_funcion_table.find_all(\"tr\")[row].find_all(\"td\")\n",
    "    funcion = cols[0].text.rstrip(' ').lstrip(' ')\n",
    "    plazas  = cols[1].text.rstrip(' ').lstrip(' ')\n",
    "    porcent = cols[2].text.rstrip(' ').lstrip(' ')\n",
    "    col_dict[\"función\"] = funcion\n",
    "    col_dict[\"plazas\"]  = plazas\n",
    "    col_dict[\"porcent\"] = porcent\n",
    "    tipo_funcion_list.append(col_dict)"
   ]
  },
  {
   "cell_type": "markdown",
   "id": "126f9d50-31c0-4700-815e-20238869ce54",
   "metadata": {},
   "source": [
    "#### 10.4.1 Lo pasamos a un dataframe"
   ]
  },
  {
   "cell_type": "code",
   "execution_count": null,
   "id": "38800b68-86b9-4f30-aed0-efaabe66b214",
   "metadata": {},
   "outputs": [],
   "source": [
    "tipo_funcion_df = pd.DataFrame.from_records(tipo_funcion_list)"
   ]
  },
  {
   "cell_type": "code",
   "execution_count": null,
   "id": "1af14b49-1dd2-4c0b-96fd-04cca8b6a57e",
   "metadata": {},
   "outputs": [],
   "source": [
    "tipo_funcion_df"
   ]
  },
  {
   "cell_type": "markdown",
   "id": "99719aa9-8aab-4f06-a1d5-e279ca1a0c11",
   "metadata": {},
   "source": [
    "### 10.5 Cosas que no se ven pero que ahí están\n",
    "\n",
    "Esta última parte no se muestra en el navegador, sin embargo curl si logró captar el contenido de la tabla que se descarga tras realizar la búsqueda"
   ]
  },
  {
   "cell_type": "markdown",
   "id": "5100b642-3ad9-4bdb-90a9-2ff470618b80",
   "metadata": {},
   "source": [
    "#### 10.5.1 `if(len(cols)>=3): use for loop`\n",
    "\n",
    "Con el siguiente código podemos obtener los nombres de las columnas de nuestra tabla, los cuales almacenaremos en una lista"
   ]
  },
  {
   "cell_type": "code",
   "execution_count": null,
   "id": "25bafca2-c941-48a9-b10b-c60ef96c1f0b",
   "metadata": {},
   "outputs": [],
   "source": [
    "puestos_header = puestos_table.find_all(\"tr\")[1].find_all(\"th\")"
   ]
  },
  {
   "cell_type": "code",
   "execution_count": null,
   "id": "edcc827e-89e8-4fbf-9ca2-646d409bab3e",
   "metadata": {},
   "outputs": [],
   "source": [
    "puestos_cols = []\n",
    "for col_num in range(len(puestos_header)):\n",
    "    col_name = puestos_header[col_num].text.rstrip(' ').lstrip(' ')\n",
    "    puestos_cols.append(col_name)"
   ]
  },
  {
   "cell_type": "code",
   "execution_count": null,
   "id": "763d0dd7-1816-4da4-9f18-3f118dfa0cdb",
   "metadata": {},
   "outputs": [],
   "source": [
    "puestos_cols"
   ]
  },
  {
   "cell_type": "markdown",
   "id": "b63dc338-55ee-49ed-8c2c-49709b1b453b",
   "metadata": {},
   "source": [
    "#### 10.5.2 La tabla que nos interesa\n",
    "\n",
    "Aplicaremos la misma mecánica que hemos usado anteriormente, sin embargo, a la hora de construir los diccionarios, usaremos un loop anidado para asignar automaticamente las etiquetas de cada diccionario"
   ]
  },
  {
   "cell_type": "code",
   "execution_count": null,
   "id": "b361332c-b67b-4a3b-952c-594a6b10acce",
   "metadata": {},
   "outputs": [],
   "source": [
    "puestos_list = []\n",
    "for row in range(2,len(puestos_table.find_all(\"tr\"))):\n",
    "    col_dict = {}\n",
    "    cols    = puestos_table.find_all(\"tr\")[row].find_all(\"td\")\n",
    "    for col in range(len(puestos_cols)):\n",
    "        label = puestos_cols[col]\n",
    "        value = cols[col].text.rstrip(' ').lstrip(' ')\n",
    "        col_dict[label] = value\n",
    "    puestos_list.append(col_dict)"
   ]
  },
  {
   "cell_type": "markdown",
   "id": "156aa088-f750-48fb-842f-889d8e399fb0",
   "metadata": {},
   "source": [
    "#### 10.5.3 La pasamos a un dataframe de pandas"
   ]
  },
  {
   "cell_type": "code",
   "execution_count": null,
   "id": "460318e0-8691-416e-b21d-5c4ae3f89dd0",
   "metadata": {},
   "outputs": [],
   "source": [
    "puestos_df = pd.DataFrame.from_records(puestos_list)"
   ]
  },
  {
   "cell_type": "code",
   "execution_count": null,
   "id": "e6727376-dc3e-4871-ae32-063d81d64f10",
   "metadata": {},
   "outputs": [],
   "source": [
    "puestos_df"
   ]
  },
  {
   "cell_type": "markdown",
   "id": "d4d75d11-22e1-4e65-80f8-d1afd8024059",
   "metadata": {},
   "source": [
    "#### 10.5.4 Y almacenamos nuestros resultados en una archivo `.tsv`"
   ]
  },
  {
   "cell_type": "code",
   "execution_count": null,
   "id": "b7dee6ba-60c9-43de-af2e-a7595512f185",
   "metadata": {},
   "outputs": [],
   "source": [
    "puestos_df.to_csv(\"estructuras.tsv\",sep=\"\\t\",index=False)"
   ]
  }
 ],
 "metadata": {
  "kernelspec": {
   "display_name": "Python 3 (ipykernel)",
   "language": "python",
   "name": "python3"
  },
  "language_info": {
   "codemirror_mode": {
    "name": "ipython",
    "version": 3
   },
   "file_extension": ".py",
   "mimetype": "text/x-python",
   "name": "python",
   "nbconvert_exporter": "python",
   "pygments_lexer": "ipython3",
   "version": "3.11.10"
  }
 },
 "nbformat": 4,
 "nbformat_minor": 5
}
